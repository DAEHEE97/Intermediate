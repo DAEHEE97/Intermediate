{
 "cells": [
  {
   "cell_type": "markdown",
   "id": "d97f3126",
   "metadata": {},
   "source": [
    "#  [4874. [파이썬 S/W 문제해결 기본] 5일차 - Forth](https://swexpertacademy.com/main/learn/course/subjectDetail.do?courseId=AVuPDN86AAXw5UW6&subjectId=AWOVIc7KqfQDFAWg#)"
   ]
  },
  {
   "cell_type": "markdown",
   "id": "fba51121",
   "metadata": {},
   "source": [
    "---"
   ]
  },
  {
   "cell_type": "markdown",
   "id": "3fe404e9",
   "metadata": {},
   "source": [
    "## sol 1\n",
    "\n",
    "- stack.pop() 연산시, 먼저 pop한 것이 b, a 순서\n",
    "\n",
    "- operators 연산자 생성\n",
    "\n",
    "- 4 / 2, 4 // 2 : Runtime error 아예 다른 연산\n"
   ]
  },
  {
   "cell_type": "code",
   "execution_count": 1,
   "id": "529486bb",
   "metadata": {},
   "outputs": [
    {
     "data": {
      "text/plain": [
       "(2.0, 2)"
      ]
     },
     "execution_count": 1,
     "metadata": {},
     "output_type": "execute_result"
    }
   ],
   "source": [
    "4 / 2, 4 // 2"
   ]
  },
  {
   "cell_type": "code",
   "execution_count": 2,
   "id": "57877857",
   "metadata": {},
   "outputs": [],
   "source": [
    "operators = {\n",
    "    \n",
    "    '+': lambda x, y : x + y, \n",
    "    '-': lambda x, y : x - y, \n",
    "    '*': lambda x, y : x * y, \n",
    "    '/': lambda x, y : x // y\n",
    "}        "
   ]
  },
  {
   "cell_type": "code",
   "execution_count": 3,
   "id": "d9ba22d9",
   "metadata": {},
   "outputs": [
    {
     "data": {
      "text/plain": [
       "(7, 1)"
      ]
     },
     "execution_count": 3,
     "metadata": {},
     "output_type": "execute_result"
    }
   ],
   "source": [
    "operators['+'](4,3), operators['-'](4,3)"
   ]
  },
  {
   "cell_type": "markdown",
   "id": "f4c6daa3",
   "metadata": {},
   "source": [
    "---"
   ]
  },
  {
   "cell_type": "code",
   "execution_count": 4,
   "id": "1e620948",
   "metadata": {},
   "outputs": [],
   "source": [
    "def cal(stack, c):\n",
    "    \n",
    "    b = int(stack.pop())\n",
    "    a = int(stack.pop())\n",
    "    \n",
    "    \n",
    "    if c == '+':\n",
    "        return str(a + b)\n",
    "    \n",
    "    elif c == '-':\n",
    "        return str(a - b)\n",
    "    \n",
    "    elif c == '*':\n",
    "        return str(a * b)\n",
    "    \n",
    "    elif c == '/':\n",
    "        return str(a // b)"
   ]
  },
  {
   "cell_type": "code",
   "execution_count": 5,
   "id": "be0504db",
   "metadata": {},
   "outputs": [
    {
     "name": "stdout",
     "output_type": "stream",
     "text": [
      "3\n",
      "10 2 + 3 4 + * .\n",
      "#1 84\n",
      "5 3 * + .\n",
      "#2 error\n",
      "1 5 8 10 3 4 + + 3 + * 2 + + + .\n",
      "#3 168\n"
     ]
    }
   ],
   "source": [
    "T = int(input())\n",
    "\n",
    "for t in range(1, T+1):\n",
    "    \n",
    "    lst = list(input().split())\n",
    "    \n",
    "    stack = []\n",
    "\n",
    "    ans = 0\n",
    "    \n",
    "    for c in lst:\n",
    "\n",
    "            if c == '.':\n",
    "                if len(stack) == 1:\n",
    "                    ans = stack.pop()\n",
    "                else:\n",
    "                    ans = 'error'\n",
    "                break\n",
    "            \n",
    "\n",
    "            elif c == '+' or c == '-' or c == '/' or c == '*':\n",
    "\n",
    "                if len(stack) < 2:\n",
    "                    ans = 'error'\n",
    "                    break\n",
    "                \n",
    "                s = cal(stack, c)\n",
    "    \n",
    "                stack.append(s)\n",
    "\n",
    "            else:\n",
    "                stack.append(c)\n",
    "\n",
    "    print(f'#{t} {ans}')"
   ]
  },
  {
   "cell_type": "markdown",
   "id": "7d1c09d6",
   "metadata": {},
   "source": [
    "---"
   ]
  },
  {
   "cell_type": "markdown",
   "id": "06c3d88e",
   "metadata": {},
   "source": [
    "## sol 2 eval() error\n",
    "\n",
    "- 문자 '/' : / \n",
    "- '//' 이 연산이 진행되야 하므로, eval() 처리 x, 지원도 하지 않음"
   ]
  },
  {
   "cell_type": "code",
   "execution_count": 6,
   "id": "34931686",
   "metadata": {},
   "outputs": [
    {
     "data": {
      "text/plain": [
       "5"
      ]
     },
     "execution_count": 6,
     "metadata": {},
     "output_type": "execute_result"
    }
   ],
   "source": [
    "eval('3+2')"
   ]
  },
  {
   "cell_type": "code",
   "execution_count": null,
   "id": "e13140f8",
   "metadata": {},
   "outputs": [],
   "source": [
    "T = int(input())\n",
    "\n",
    "for t in range(1, T+1):\n",
    "    \n",
    "    lst = list(input().split())\n",
    "    \n",
    "    stack = []\n",
    "\n",
    "    ans = 0\n",
    "    for c in lst:\n",
    "\n",
    "            if c == '.':\n",
    "                ans = stack.pop()\n",
    "                break\n",
    "\n",
    "            elif c == '+' or c == '-' or c == '/' or c == '*':\n",
    "\n",
    "                if len(stack) < 2:\n",
    "                    ans = 'error'\n",
    "                    break\n",
    "\n",
    "\n",
    "                a = stack.pop()\n",
    "                b = stack.pop()\n",
    "\n",
    "                string = a+c+b\n",
    "\n",
    "\n",
    "                stack.append(str(eval(string)))\n",
    "\n",
    "            else:\n",
    "                stack.append(c)\n",
    "\n",
    "    print(f'#{t} {ans}')"
   ]
  }
 ],
 "metadata": {
  "kernelspec": {
   "display_name": "Python 3 (ipykernel)",
   "language": "python",
   "name": "python3"
  },
  "language_info": {
   "codemirror_mode": {
    "name": "ipython",
    "version": 3
   },
   "file_extension": ".py",
   "mimetype": "text/x-python",
   "name": "python",
   "nbconvert_exporter": "python",
   "pygments_lexer": "ipython3",
   "version": "3.8.16"
  },
  "toc": {
   "base_numbering": 1,
   "nav_menu": {},
   "number_sections": true,
   "sideBar": true,
   "skip_h1_title": false,
   "title_cell": "Table of Contents",
   "title_sidebar": "Contents",
   "toc_cell": false,
   "toc_position": {},
   "toc_section_display": true,
   "toc_window_display": false
  },
  "varInspector": {
   "cols": {
    "lenName": 16,
    "lenType": 16,
    "lenVar": 40
   },
   "kernels_config": {
    "python": {
     "delete_cmd_postfix": "",
     "delete_cmd_prefix": "del ",
     "library": "var_list.py",
     "varRefreshCmd": "print(var_dic_list())"
    },
    "r": {
     "delete_cmd_postfix": ") ",
     "delete_cmd_prefix": "rm(",
     "library": "var_list.r",
     "varRefreshCmd": "cat(var_dic_list()) "
    }
   },
   "types_to_exclude": [
    "module",
    "function",
    "builtin_function_or_method",
    "instance",
    "_Feature"
   ],
   "window_display": false
  }
 },
 "nbformat": 4,
 "nbformat_minor": 5
}
