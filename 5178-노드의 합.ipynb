{
 "cells": [
  {
   "cell_type": "markdown",
   "id": "8d1522b9",
   "metadata": {},
   "source": [
    "#  5178. [파이썬 S/W 문제해결 기본] 8일차 - 노드의 합"
   ]
  },
  {
   "cell_type": "markdown",
   "id": "0e300e51",
   "metadata": {},
   "source": [
    "---"
   ]
  },
  {
   "cell_type": "markdown",
   "id": "d1c23a38",
   "metadata": {},
   "source": [
    "## sol 1 완전 이진 트리"
   ]
  },
  {
   "cell_type": "code",
   "execution_count": 1,
   "id": "1eb6c31f",
   "metadata": {},
   "outputs": [
    {
     "name": "stdout",
     "output_type": "stream",
     "text": [
      "1\n",
      "5 3 2\n",
      "4 1\n",
      "5 2\n",
      "3 3\n",
      "#1 3\n"
     ]
    }
   ],
   "source": [
    "T = int(input())\n",
    "\n",
    "for t in range(1, T+1):\n",
    "    \n",
    "    N, M, L = map(int, input().split())\n",
    "    \n",
    "    tree = [ 0 for _ in range(N+1) ]\n",
    "    \n",
    "    for _ in range(M):\n",
    "        \n",
    "        idx, v = map(int, input().split())\n",
    "        tree[idx] = v\n",
    "    \n",
    "    for i in range(N, 0, -1):\n",
    "        \n",
    "        if i // 2 > 0:\n",
    "            tree[i // 2] += tree[i]\n",
    "    \n",
    "    ans = tree[L]\n",
    "    \n",
    "    print(f'#{t} {ans}')"
   ]
  }
 ],
 "metadata": {
  "kernelspec": {
   "display_name": "Python 3 (ipykernel)",
   "language": "python",
   "name": "python3"
  },
  "language_info": {
   "codemirror_mode": {
    "name": "ipython",
    "version": 3
   },
   "file_extension": ".py",
   "mimetype": "text/x-python",
   "name": "python",
   "nbconvert_exporter": "python",
   "pygments_lexer": "ipython3",
   "version": "3.8.16"
  },
  "toc": {
   "base_numbering": 1,
   "nav_menu": {},
   "number_sections": true,
   "sideBar": true,
   "skip_h1_title": false,
   "title_cell": "Table of Contents",
   "title_sidebar": "Contents",
   "toc_cell": false,
   "toc_position": {},
   "toc_section_display": true,
   "toc_window_display": false
  },
  "varInspector": {
   "cols": {
    "lenName": 16,
    "lenType": 16,
    "lenVar": 40
   },
   "kernels_config": {
    "python": {
     "delete_cmd_postfix": "",
     "delete_cmd_prefix": "del ",
     "library": "var_list.py",
     "varRefreshCmd": "print(var_dic_list())"
    },
    "r": {
     "delete_cmd_postfix": ") ",
     "delete_cmd_prefix": "rm(",
     "library": "var_list.r",
     "varRefreshCmd": "cat(var_dic_list()) "
    }
   },
   "types_to_exclude": [
    "module",
    "function",
    "builtin_function_or_method",
    "instance",
    "_Feature"
   ],
   "window_display": false
  }
 },
 "nbformat": 4,
 "nbformat_minor": 5
}
