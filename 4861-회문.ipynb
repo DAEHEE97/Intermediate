{
 "cells": [
  {
   "cell_type": "markdown",
   "id": "f412259b",
   "metadata": {},
   "source": [
    "# 4861. [파이썬 S/W 문제해결 기본] 3일차 - 회문"
   ]
  },
  {
   "cell_type": "markdown",
   "id": "1f754dd9",
   "metadata": {},
   "source": [
    "- [sj + dj] != [sj + M-1 -dj], sj 이동 하면서 비교\n"
   ]
  },
  {
   "cell_type": "markdown",
   "id": "a7a4f16a",
   "metadata": {},
   "source": [
    "---"
   ]
  },
  {
   "cell_type": "code",
   "execution_count": null,
   "id": "4e107278",
   "metadata": {},
   "outputs": [],
   "source": [
    "def solve(arr, M):\n",
    "    \n",
    "    for si in range(len(arr)):\n",
    "        \n",
    "        for sj in range(0, len(arr) - M + 1):\n",
    "            \n",
    "            flag = False\n",
    "            \n",
    "            for dj in range(0, M//2):\n",
    "                \n",
    "                if arr[si][sj + dj] != arr[si][sj + M-1 - dj]:\n",
    "                    flag= False\n",
    "                    break\n",
    "                    \n",
    "                else:\n",
    "                    flag = True\n",
    "            \n",
    "            if flag:\n",
    "                return ''.join(arr[si][sj:sj+M])\n",
    "                \n",
    "    \n",
    "    \n",
    "    # 2) Transpose\n",
    "    arr_T = [ list(tup) for tup in zip(*arr) ]    \n",
    "    for si in range(len(arr_T)):\n",
    "        \n",
    "        for sj in range(0, len(arr_T) - M + 1):\n",
    "            \n",
    "            flag = False\n",
    "            \n",
    "            for dj in range(0, M//2):\n",
    "                \n",
    "                if arr_T[si][sj + dj] != arr_T[si][sj+ M - 1 - dj]:\n",
    "                    flag= False\n",
    "                    break\n",
    "                    \n",
    "                else:\n",
    "                    flag = True\n",
    "            \n",
    "            if flag:\n",
    "                return ''.join(arr_T[si][sj:sj+M])\n",
    "\n",
    "T = int(input())\n",
    "\n",
    "for t in range(1, T+1):\n",
    "    \n",
    "    N, M = map(int, input().split())\n",
    "    \n",
    "    arr = [ list(input()) for _ in range(N) ] \n",
    "    \n",
    "    ans = solve(arr, M)\n",
    "    \n",
    "    print(f'#{t} {ans}')\n",
    "    \n"
   ]
  }
 ],
 "metadata": {
  "kernelspec": {
   "display_name": "Python 3 (ipykernel)",
   "language": "python",
   "name": "python3"
  },
  "language_info": {
   "codemirror_mode": {
    "name": "ipython",
    "version": 3
   },
   "file_extension": ".py",
   "mimetype": "text/x-python",
   "name": "python",
   "nbconvert_exporter": "python",
   "pygments_lexer": "ipython3",
   "version": "3.8.16"
  },
  "toc": {
   "base_numbering": 1,
   "nav_menu": {},
   "number_sections": true,
   "sideBar": true,
   "skip_h1_title": false,
   "title_cell": "Table of Contents",
   "title_sidebar": "Contents",
   "toc_cell": false,
   "toc_position": {},
   "toc_section_display": true,
   "toc_window_display": false
  },
  "varInspector": {
   "cols": {
    "lenName": 16,
    "lenType": 16,
    "lenVar": 40
   },
   "kernels_config": {
    "python": {
     "delete_cmd_postfix": "",
     "delete_cmd_prefix": "del ",
     "library": "var_list.py",
     "varRefreshCmd": "print(var_dic_list())"
    },
    "r": {
     "delete_cmd_postfix": ") ",
     "delete_cmd_prefix": "rm(",
     "library": "var_list.r",
     "varRefreshCmd": "cat(var_dic_list()) "
    }
   },
   "types_to_exclude": [
    "module",
    "function",
    "builtin_function_or_method",
    "instance",
    "_Feature"
   ],
   "window_display": false
  }
 },
 "nbformat": 4,
 "nbformat_minor": 5
}
