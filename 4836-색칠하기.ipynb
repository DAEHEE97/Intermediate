{
 "cells": [
  {
   "cell_type": "markdown",
   "id": "ec491347",
   "metadata": {},
   "source": [
    "# 4836. [파이썬 S/W 문제해결 기본] 2일차 - 색칠하기"
   ]
  },
  {
   "cell_type": "markdown",
   "id": "0577c576",
   "metadata": {},
   "source": [
    "- 합 으로 계산 x, 빨강 중복, 파랑 중복 처리 가능성 \n",
    "   \n",
    "- 2차원 arr, 내부 요소는 set() 으로 처리"
   ]
  },
  {
   "cell_type": "markdown",
   "id": "8c805a1e",
   "metadata": {},
   "source": [
    "---"
   ]
  },
  {
   "cell_type": "code",
   "execution_count": 1,
   "id": "e263c9c2",
   "metadata": {},
   "outputs": [
    {
     "name": "stdout",
     "output_type": "stream",
     "text": [
      "1\n",
      "2\n",
      "2 2 4 4 1\n",
      "3 3 6 6 2\n",
      "#1 4\n"
     ]
    }
   ],
   "source": [
    "T = int(input())\n",
    "\n",
    "for t in range(1, T+1):\n",
    "    \n",
    "    arr = [ [ set() for _ in range(10) ] for _ in range(10)]\n",
    "    \n",
    "    N = int(input())\n",
    "    \n",
    "    for _ in range(N):\n",
    "        \n",
    "        si,sj,ei,ej,c = map(int, input().split())\n",
    "        \n",
    "        for i in range(si, ei+1):\n",
    "            \n",
    "            for j in range(sj, ej+1):\n",
    "                \n",
    "                arr[i][j].add(c)\n",
    "                \n",
    "    \n",
    "    ans = 0\n",
    "    \n",
    "    for i in range(0, 10):\n",
    "        for j in range(0, 10):\n",
    "            if len(arr[i][j]) >= 2:\n",
    "                ans += 1\n",
    "                \n",
    "    print('#{0} {1}'.format(t, ans))"
   ]
  }
 ],
 "metadata": {
  "kernelspec": {
   "display_name": "Python 3 (ipykernel)",
   "language": "python",
   "name": "python3"
  },
  "language_info": {
   "codemirror_mode": {
    "name": "ipython",
    "version": 3
   },
   "file_extension": ".py",
   "mimetype": "text/x-python",
   "name": "python",
   "nbconvert_exporter": "python",
   "pygments_lexer": "ipython3",
   "version": "3.8.16"
  },
  "toc": {
   "base_numbering": 1,
   "nav_menu": {},
   "number_sections": true,
   "sideBar": true,
   "skip_h1_title": false,
   "title_cell": "Table of Contents",
   "title_sidebar": "Contents",
   "toc_cell": false,
   "toc_position": {},
   "toc_section_display": true,
   "toc_window_display": false
  },
  "varInspector": {
   "cols": {
    "lenName": 16,
    "lenType": 16,
    "lenVar": 40
   },
   "kernels_config": {
    "python": {
     "delete_cmd_postfix": "",
     "delete_cmd_prefix": "del ",
     "library": "var_list.py",
     "varRefreshCmd": "print(var_dic_list())"
    },
    "r": {
     "delete_cmd_postfix": ") ",
     "delete_cmd_prefix": "rm(",
     "library": "var_list.r",
     "varRefreshCmd": "cat(var_dic_list()) "
    }
   },
   "types_to_exclude": [
    "module",
    "function",
    "builtin_function_or_method",
    "instance",
    "_Feature"
   ],
   "window_display": false
  }
 },
 "nbformat": 4,
 "nbformat_minor": 5
}
