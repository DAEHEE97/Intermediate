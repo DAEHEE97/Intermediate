{
 "cells": [
  {
   "cell_type": "markdown",
   "id": "c6463084",
   "metadata": {},
   "source": [
    "# 4881. [파이썬 S/W 문제해결 기본] 5일차 - 배열 최소 합 "
   ]
  },
  {
   "cell_type": "markdown",
   "id": "24721f72",
   "metadata": {},
   "source": [
    "---"
   ]
  },
  {
   "cell_type": "markdown",
   "id": "b8c4ea98",
   "metadata": {},
   "source": [
    "## sol 1 Backtracking"
   ]
  },
  {
   "cell_type": "code",
   "execution_count": 1,
   "id": "e2e47c75",
   "metadata": {},
   "outputs": [],
   "source": [
    "# 가능한 모든 경우 > 최소의 합 \n",
    "# 여기서 n은 2차원 배열의 행\n",
    "# n > 0 행 부터 시작해서, 마지막 행에 도달하면 exit\n",
    "# 방문 처리 조건  열은 중복해서 방문 x, 열 트리, \n",
    "\n",
    "def dfs(n, s):\n",
    "    \n",
    "    global ans\n",
    "    \n",
    "    if s > ans:\n",
    "        return\n",
    "    \n",
    "    if n == N:\n",
    "        \n",
    "        ans = min(ans, s)\n",
    "        \n",
    "        return \n",
    "    \n",
    "    for j in range(0, N):\n",
    "        \n",
    "        if v[j] == 0:\n",
    "            \n",
    "            v[j] = 1\n",
    "            \n",
    "            dfs( n+1, s+arr[n][j] )\n",
    "            \n",
    "            v[j] = 0"
   ]
  },
  {
   "cell_type": "code",
   "execution_count": 2,
   "id": "5836daca",
   "metadata": {},
   "outputs": [
    {
     "name": "stdout",
     "output_type": "stream",
     "text": [
      "1\n",
      "3\n",
      "2 1 2\n",
      "5 8 5\n",
      "7 2 2\n",
      "#1 8\n"
     ]
    }
   ],
   "source": [
    "T = int(input())\n",
    "\n",
    "for t in range(1, T+1):\n",
    "    \n",
    "    N = int(input())\n",
    "    \n",
    "    arr = [ list(map(int, input().split())) for _ in range(N) ]\n",
    "    \n",
    "    v = [0] * N\n",
    "    \n",
    "    ans = 10*10\n",
    "    \n",
    "    dfs(0, 0)\n",
    "    \n",
    "    print(f'#{t} {ans}')\n",
    "    "
   ]
  }
 ],
 "metadata": {
  "kernelspec": {
   "display_name": "Python 3 (ipykernel)",
   "language": "python",
   "name": "python3"
  },
  "language_info": {
   "codemirror_mode": {
    "name": "ipython",
    "version": 3
   },
   "file_extension": ".py",
   "mimetype": "text/x-python",
   "name": "python",
   "nbconvert_exporter": "python",
   "pygments_lexer": "ipython3",
   "version": "3.8.16"
  },
  "toc": {
   "base_numbering": 1,
   "nav_menu": {},
   "number_sections": true,
   "sideBar": true,
   "skip_h1_title": false,
   "title_cell": "Table of Contents",
   "title_sidebar": "Contents",
   "toc_cell": false,
   "toc_position": {},
   "toc_section_display": true,
   "toc_window_display": false
  },
  "varInspector": {
   "cols": {
    "lenName": 16,
    "lenType": 16,
    "lenVar": 40
   },
   "kernels_config": {
    "python": {
     "delete_cmd_postfix": "",
     "delete_cmd_prefix": "del ",
     "library": "var_list.py",
     "varRefreshCmd": "print(var_dic_list())"
    },
    "r": {
     "delete_cmd_postfix": ") ",
     "delete_cmd_prefix": "rm(",
     "library": "var_list.r",
     "varRefreshCmd": "cat(var_dic_list()) "
    }
   },
   "types_to_exclude": [
    "module",
    "function",
    "builtin_function_or_method",
    "instance",
    "_Feature"
   ],
   "window_display": false
  }
 },
 "nbformat": 4,
 "nbformat_minor": 5
}
