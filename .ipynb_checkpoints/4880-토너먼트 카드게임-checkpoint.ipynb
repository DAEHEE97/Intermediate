{
 "cells": [
  {
   "cell_type": "markdown",
   "id": "1589934a",
   "metadata": {},
   "source": [
    "# 4880. [파이썬 S/W 문제해결 기본] 5일차 - 토너먼트 카드게임\n"
   ]
  },
  {
   "cell_type": "markdown",
   "id": "77bfa4b7",
   "metadata": {},
   "source": [
    "---"
   ]
  },
  {
   "cell_type": "code",
   "execution_count": 1,
   "id": "1bcace48",
   "metadata": {},
   "outputs": [],
   "source": [
    "# 1 가위, 2 바위, 3 보\n",
    "\n",
    "def rps(f, r):\n",
    "    \n",
    "    # 비기면, 작은 쪽 승자\n",
    "    if lst[f] == lst[r]:\n",
    "        return [f]\n",
    "    \n",
    "    # 차이가 1이 나면, 큰게 이김\n",
    "    elif abs(lst[f] - lst[r]) == 1:\n",
    "        if lst[f] > lst[r]:\n",
    "            return [f]\n",
    "        else:\n",
    "            return [r]\n",
    "        \n",
    "    # 차이가 2가나면 , 작은게 이김\n",
    "    elif abs(lst[f] - lst[r]) == 2:\n",
    "        \n",
    "        if lst[f] < lst[r]:\n",
    "            return [f]\n",
    "        else:\n",
    "            return [r]\n"
   ]
  },
  {
   "cell_type": "code",
   "execution_count": 2,
   "id": "b47d3bf7",
   "metadata": {},
   "outputs": [],
   "source": [
    "def divide(group):\n",
    "    \n",
    "    # 각 그룹이 1명이 될때 까지 그룹을 나누고, 각각 1명이 되면, 가위바위보 시작\n",
    "    if len(group) == 1:\n",
    "        return group\n",
    "    \n",
    "    # mid 중심으로 그룹 divide\n",
    "    \n",
    "    mid = ((len(group) - 1) // 2) + 1 \n",
    "    \n",
    "    front = group[:mid]\n",
    "    rear = group[mid:]\n",
    "    \n",
    "    front = divide(front)\n",
    "    \n",
    "    rear = divide(rear)\n",
    "    \n",
    "    return rps(front[0], rear[0])"
   ]
  },
  {
   "cell_type": "code",
   "execution_count": 3,
   "id": "6af8f904",
   "metadata": {},
   "outputs": [
    {
     "name": "stdout",
     "output_type": "stream",
     "text": [
      "3\n",
      "4\n",
      "1 3 2 1\n",
      "3\n",
      "6\n",
      "2 1 1 2 3 3\n",
      "5\n",
      "7\n",
      "1 3 3 3 1 1 3\n",
      "1\n"
     ]
    }
   ],
   "source": [
    "T = int(input())\n",
    "\n",
    "for t in range(1, T+1):\n",
    "    \n",
    "    N = int(input())\n",
    "    \n",
    "    lst = list(map(int, input().split()))\n",
    "    \n",
    "    groups = list(range(N))\n",
    "    \n",
    "    ans = divide(groups)[0] + 1\n",
    "    \n",
    "    print(f'#{t} {ans}')"
   ]
  }
 ],
 "metadata": {
  "kernelspec": {
   "display_name": "Python 3 (ipykernel)",
   "language": "python",
   "name": "python3"
  },
  "language_info": {
   "codemirror_mode": {
    "name": "ipython",
    "version": 3
   },
   "file_extension": ".py",
   "mimetype": "text/x-python",
   "name": "python",
   "nbconvert_exporter": "python",
   "pygments_lexer": "ipython3",
   "version": "3.8.16"
  },
  "toc": {
   "base_numbering": 1,
   "nav_menu": {},
   "number_sections": true,
   "sideBar": true,
   "skip_h1_title": false,
   "title_cell": "Table of Contents",
   "title_sidebar": "Contents",
   "toc_cell": false,
   "toc_position": {},
   "toc_section_display": true,
   "toc_window_display": false
  },
  "varInspector": {
   "cols": {
    "lenName": 16,
    "lenType": 16,
    "lenVar": 40
   },
   "kernels_config": {
    "python": {
     "delete_cmd_postfix": "",
     "delete_cmd_prefix": "del ",
     "library": "var_list.py",
     "varRefreshCmd": "print(var_dic_list())"
    },
    "r": {
     "delete_cmd_postfix": ") ",
     "delete_cmd_prefix": "rm(",
     "library": "var_list.r",
     "varRefreshCmd": "cat(var_dic_list()) "
    }
   },
   "types_to_exclude": [
    "module",
    "function",
    "builtin_function_or_method",
    "instance",
    "_Feature"
   ],
   "window_display": false
  }
 },
 "nbformat": 4,
 "nbformat_minor": 5
}
