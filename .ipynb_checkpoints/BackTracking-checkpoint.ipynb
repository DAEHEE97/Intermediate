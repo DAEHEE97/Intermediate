{
 "cells": [
  {
   "cell_type": "markdown",
   "id": "6e1a9353",
   "metadata": {},
   "source": [
    "# BackTracking\n",
    "\n",
    "- 해를 찾는 도중에 '막히면'. 즉 해가 아니면, 되돌아가서 다시 해를 찾아가는 기법\n",
    "    - 최적화 문제 (Optimization)\n",
    "    - 결정 문제 (Decision) : 문제의 조건을 만족하는 해가 존재하는지의 여부 'True' or 'False' 반환 하는 문제\n",
    "    \n",
    "        - 미로 문제\n",
    "        - N-Queen\n",
    "        - Map coloring\n",
    "        - 부분 집합의 합 (Subset Sum)\n",
    "\n",
    "\n"
   ]
  },
  {
   "cell_type": "markdown",
   "id": "7d81dafb",
   "metadata": {},
   "source": [
    "---"
   ]
  },
  {
   "cell_type": "markdown",
   "id": "03c0ca2c",
   "metadata": {},
   "source": [
    "## BackTracking vs DFS\n",
    "\n",
    "- 가지치기 (Pruning) 어떤 노드에서 출발하는 경로가 해결책으로 이어질 것 같지 않으면, 더 이상 그 경로를 따라가지 않음으로써 시도의 횟수를 줄임\n",
    "\n",
    "    - 그러나 최악의 경우, 여전히 지수함수 시간 요규\n",
    "    \n",
    "    \n",
    "- 반면 DFS는 모든 경로를 추적, 모든 후보 검사, 지수 시간 필요"
   ]
  },
  {
   "cell_type": "markdown",
   "id": "3dc51160",
   "metadata": {},
   "source": [
    "---"
   ]
  },
  {
   "cell_type": "markdown",
   "id": "97d7f7c7",
   "metadata": {},
   "source": [
    "## 상태 공간 트리 (State Space Tree)\n",
    "\n",
    "- 해를 찾기 위한 선택의 과정을 트리 형태로 표현\n",
    "\n",
    "- 트리의 내부 노드는 최종 상태로 가는 중간 상태를 표현\n",
    "\n",
    "- 트리의 루트 노드(Root Node)에서 단말 노드(Leaf Node)까지 가는 경로는 하나의 후보해(Candidate Solution)에 대한 최종 상태가 됨\n",
    "\n",
    "- 상태 공간 트리를 탐색하는 것은 모든 후보해들을 탐색하는 것"
   ]
  },
  {
   "cell_type": "markdown",
   "id": "a2e7b5fd",
   "metadata": {},
   "source": [
    "---"
   ]
  },
  {
   "cell_type": "markdown",
   "id": "464b2ec5",
   "metadata": {},
   "source": [
    "## BackTracking 알고리즘\n",
    "\n",
    "1. 어떤 노드의 유망성 점검 후 유망(Promising)하지 않다고 결정되면, 해당 노드의 부모로 되돌아가(Backtraking), 다음 자식 노드로 이동\n",
    "\n",
    "2. 어떤 노드를 방문했을 때, 해당 노드를 포함한 경로의 해답 여부 확인 처리\n",
    "    - 해답이 될 수 없을 경우 해당 노드는 유망하지 않다고 처리\n",
    "    - 해답의 가능성이 있을 경우 유망하다고 함\n",
    "    \n",
    "3. 가지치기(Pruning) - 유망하지 않은 노드가 포함되는 경로는 더이상 고려하지 않음"
   ]
  },
  {
   "cell_type": "markdown",
   "id": "3eb3311b",
   "metadata": {},
   "source": [
    "---"
   ]
  },
  {
   "cell_type": "markdown",
   "id": "29297afe",
   "metadata": {},
   "source": [
    "## BackTracking 알고리즘 구현\n",
    "\n",
    "- 1-1) n, 열트리, 이진트리 정의, 일반화\n",
    "\n",
    "- 1-2) 종료 조건, 정답 처리\n",
    "\n",
    "- 2-1) 하부 함수 호출\n",
    "\n",
    "- 3-1) 가지치기"
   ]
  }
 ],
 "metadata": {
  "kernelspec": {
   "display_name": "Python 3 (ipykernel)",
   "language": "python",
   "name": "python3"
  },
  "language_info": {
   "codemirror_mode": {
    "name": "ipython",
    "version": 3
   },
   "file_extension": ".py",
   "mimetype": "text/x-python",
   "name": "python",
   "nbconvert_exporter": "python",
   "pygments_lexer": "ipython3",
   "version": "3.8.16"
  },
  "toc": {
   "base_numbering": 1,
   "nav_menu": {},
   "number_sections": true,
   "sideBar": true,
   "skip_h1_title": false,
   "title_cell": "Table of Contents",
   "title_sidebar": "Contents",
   "toc_cell": false,
   "toc_position": {},
   "toc_section_display": true,
   "toc_window_display": false
  },
  "varInspector": {
   "cols": {
    "lenName": 16,
    "lenType": 16,
    "lenVar": 40
   },
   "kernels_config": {
    "python": {
     "delete_cmd_postfix": "",
     "delete_cmd_prefix": "del ",
     "library": "var_list.py",
     "varRefreshCmd": "print(var_dic_list())"
    },
    "r": {
     "delete_cmd_postfix": ") ",
     "delete_cmd_prefix": "rm(",
     "library": "var_list.r",
     "varRefreshCmd": "cat(var_dic_list()) "
    }
   },
   "types_to_exclude": [
    "module",
    "function",
    "builtin_function_or_method",
    "instance",
    "_Feature"
   ],
   "window_display": false
  }
 },
 "nbformat": 4,
 "nbformat_minor": 5
}
