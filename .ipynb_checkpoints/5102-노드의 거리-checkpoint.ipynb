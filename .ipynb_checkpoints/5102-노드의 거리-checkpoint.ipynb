{
 "cells": [
  {
   "cell_type": "markdown",
   "id": "11d9aa99",
   "metadata": {},
   "source": [
    "# 5102. [파이썬 S/W 문제해결 기본] 6일차 - 노드의 거리"
   ]
  },
  {
   "cell_type": "markdown",
   "id": "03bb7748",
   "metadata": {},
   "source": [
    "---"
   ]
  },
  {
   "cell_type": "code",
   "execution_count": null,
   "id": "41aef408",
   "metadata": {},
   "outputs": [],
   "source": [
    "from collections import deque\n",
    "\n",
    "def bfs(s,e):\n",
    "    \n",
    "    q = deque()\n",
    "    \n",
    "    q.append(s)\n",
    "    v[s] = 1\n",
    "    \n",
    "    while q:\n",
    "        \n",
    "        c = q.popleft()\n",
    "        \n",
    "        if c == e:\n",
    "            return v[e] - v[s]\n",
    "        \n",
    "    \n",
    "        for n in adj[c]:\n",
    "            \n",
    "            if v[n] == 0:\n",
    "                q.append(n)\n",
    "                v[n] = v[c] + 1\n",
    "        \n",
    "    \n",
    "    # 연결 x \n",
    "    return 0 "
   ]
  },
  {
   "cell_type": "code",
   "execution_count": null,
   "id": "494e6804",
   "metadata": {},
   "outputs": [],
   "source": [
    "T = int(input())\n",
    "\n",
    "for t in range(1, T+1):\n",
    "    \n",
    "    # 1-1) 노드의 개수, 간선의 개수 \n",
    "    V, E = map(int,input().split())\n",
    "\n",
    "    # 1-2) 인접 리스트 생성,  \n",
    "    adj = [ [] for _ in range(V+1) ] \n",
    "\n",
    "    # 1-3) 양 방향 그래프, \n",
    "    for _ in range(E):\n",
    "        s,e = map(int,input().split())\n",
    "\n",
    "        adj[s].append(e)\n",
    "        adj[e].append(s)\n",
    "\n",
    "    # 1-4) 출발 노드 S와 도착 노드 E\n",
    "    S,E = map(int,input().split())\n",
    "    \n",
    "    # 1-5) 방문 표시 리스트 \n",
    "    v = [0] * (V+1)\n",
    "    \n",
    "    # 1-6) bfs 처리 후, 방문 레벨 차이 (start to end) return\n",
    "    ans = bfs(S,E)\n",
    "    \n",
    "    print('#{0} {1}'.format(t, ans))"
   ]
  }
 ],
 "metadata": {
  "kernelspec": {
   "display_name": "Python 3 (ipykernel)",
   "language": "python",
   "name": "python3"
  },
  "language_info": {
   "codemirror_mode": {
    "name": "ipython",
    "version": 3
   },
   "file_extension": ".py",
   "mimetype": "text/x-python",
   "name": "python",
   "nbconvert_exporter": "python",
   "pygments_lexer": "ipython3",
   "version": "3.8.16"
  },
  "toc": {
   "base_numbering": 1,
   "nav_menu": {},
   "number_sections": true,
   "sideBar": true,
   "skip_h1_title": false,
   "title_cell": "Table of Contents",
   "title_sidebar": "Contents",
   "toc_cell": false,
   "toc_position": {},
   "toc_section_display": true,
   "toc_window_display": false
  },
  "varInspector": {
   "cols": {
    "lenName": 16,
    "lenType": 16,
    "lenVar": 40
   },
   "kernels_config": {
    "python": {
     "delete_cmd_postfix": "",
     "delete_cmd_prefix": "del ",
     "library": "var_list.py",
     "varRefreshCmd": "print(var_dic_list())"
    },
    "r": {
     "delete_cmd_postfix": ") ",
     "delete_cmd_prefix": "rm(",
     "library": "var_list.r",
     "varRefreshCmd": "cat(var_dic_list()) "
    }
   },
   "types_to_exclude": [
    "module",
    "function",
    "builtin_function_or_method",
    "instance",
    "_Feature"
   ],
   "window_display": false
  }
 },
 "nbformat": 4,
 "nbformat_minor": 5
}
