{
 "cells": [
  {
   "cell_type": "markdown",
   "id": "bda5e408",
   "metadata": {},
   "source": [
    "# 5110. [파이썬 S/W 문제해결 기본] 7일차 - 수열 합치기"
   ]
  },
  {
   "cell_type": "markdown",
   "id": "6a4e5f00",
   "metadata": {},
   "source": [
    "---"
   ]
  },
  {
   "cell_type": "code",
   "execution_count": 1,
   "id": "f58012aa",
   "metadata": {},
   "outputs": [
    {
     "name": "stdout",
     "output_type": "stream",
     "text": [
      "1\n",
      "4 4\n",
      "2 3 4 5\n",
      "4 8 7 6\n",
      "9 10 15 16\n"
     ]
    },
    {
     "ename": "TypeError",
     "evalue": "'>' not supported between instances of 'list' and 'int'",
     "output_type": "error",
     "traceback": [
      "\u001b[0;31m---------------------------------------------------------------------------\u001b[0m",
      "\u001b[0;31mTypeError\u001b[0m                                 Traceback (most recent call last)",
      "Cell \u001b[0;32mIn[1], line 21\u001b[0m\n\u001b[1;32m     17\u001b[0m \u001b[38;5;66;03m# for, if, else\u001b[39;00m\n\u001b[1;32m     18\u001b[0m \u001b[38;5;28;01mfor\u001b[39;00m i \u001b[38;5;129;01min\u001b[39;00m \u001b[38;5;28mrange\u001b[39m(\u001b[38;5;28mlen\u001b[39m(f_lst)):\n\u001b[1;32m     19\u001b[0m     \n\u001b[1;32m     20\u001b[0m     \u001b[38;5;66;03m# 0 1 2 3\u001b[39;00m\n\u001b[0;32m---> 21\u001b[0m     \u001b[38;5;28;01mif\u001b[39;00m \u001b[43mf_lst\u001b[49m\u001b[43m[\u001b[49m\u001b[43mi\u001b[49m\u001b[43m]\u001b[49m\u001b[43m \u001b[49m\u001b[38;5;241;43m>\u001b[39;49m\u001b[43m \u001b[49m\u001b[43mv\u001b[49m:\n\u001b[1;32m     23\u001b[0m         f_lst \u001b[38;5;241m=\u001b[39m [f_lst[:i]] \u001b[38;5;241m+\u001b[39m [tlst[:]] \u001b[38;5;241m+\u001b[39m [f_lst[i:]]\n\u001b[1;32m     25\u001b[0m \u001b[38;5;28;01melse\u001b[39;00m:\n",
      "\u001b[0;31mTypeError\u001b[0m: '>' not supported between instances of 'list' and 'int'"
     ]
    }
   ],
   "source": [
    "\n",
    "T = int(input())\n",
    "\n",
    "for t in range(1, T+1):\n",
    "    \n",
    "    # 수열의 길이 N, 수열의 개수 M\n",
    "    N, M = map(int, input().split())\n",
    "\n",
    "    f_lst = list(map(int, input().split()))\n",
    "    \n",
    "    # 나머지 lst\n",
    "    for _ in range(M-1):\n",
    "        \n",
    "        tlst = list(map(int, input().split()))\n",
    "        \n",
    "        v = tlst[0]\n",
    "        \n",
    "        # for, if, else\n",
    "        for i in range(len(f_lst)):\n",
    "            \n",
    "            # 0 1 2 3\n",
    "            if f_lst[i] > v:\n",
    "                \n",
    "                f_lst = [f_lst[:i]] + [tlst[:]] + [f_lst[i:]]\n",
    "                \n",
    "                \n",
    "        \n",
    "        else:\n",
    "            f_lst = [tlst[:]] + [f_lst[:]]\n",
    "            \n",
    "    \n",
    "    \n",
    "    print(f_lst)\n",
    "                \n",
    "                \n",
    "                \n",
    "            \n",
    "            \n",
    "        \n",
    "        \n",
    "        "
   ]
  },
  {
   "cell_type": "code",
   "execution_count": null,
   "id": "3f21eeea",
   "metadata": {},
   "outputs": [],
   "source": []
  },
  {
   "cell_type": "code",
   "execution_count": 2,
   "id": "10f9987e",
   "metadata": {},
   "outputs": [
    {
     "name": "stdout",
     "output_type": "stream",
     "text": [
      "1\n",
      "4 4\n",
      "2 3 4 5\n",
      "4 8 7 6\n",
      "9 10 15 16\n"
     ]
    },
    {
     "ename": "TypeError",
     "evalue": "'>' not supported between instances of 'list' and 'int'",
     "output_type": "error",
     "traceback": [
      "\u001b[0;31m---------------------------------------------------------------------------\u001b[0m",
      "\u001b[0;31mTypeError\u001b[0m                                 Traceback (most recent call last)",
      "Cell \u001b[0;32mIn[2], line 24\u001b[0m\n\u001b[1;32m     19\u001b[0m flag\u001b[38;5;241m=\u001b[39m \u001b[38;5;28;01mTrue\u001b[39;00m\n\u001b[1;32m     21\u001b[0m \u001b[38;5;28;01mfor\u001b[39;00m i \u001b[38;5;129;01min\u001b[39;00m \u001b[38;5;28mrange\u001b[39m(\u001b[38;5;28mlen\u001b[39m(f_lst)):\n\u001b[1;32m     22\u001b[0m     \n\u001b[1;32m     23\u001b[0m     \u001b[38;5;66;03m# 0 1 2 3\u001b[39;00m\n\u001b[0;32m---> 24\u001b[0m     \u001b[38;5;28;01mif\u001b[39;00m \u001b[43mf_lst\u001b[49m\u001b[43m[\u001b[49m\u001b[43mi\u001b[49m\u001b[43m]\u001b[49m\u001b[43m \u001b[49m\u001b[38;5;241;43m>\u001b[39;49m\u001b[43m \u001b[49m\u001b[43mv\u001b[49m:\n\u001b[1;32m     25\u001b[0m         flag \u001b[38;5;241m=\u001b[39m \u001b[38;5;28;01mFalse\u001b[39;00m\n\u001b[1;32m     26\u001b[0m         f_lst \u001b[38;5;241m=\u001b[39m [f_lst[:i]] \u001b[38;5;241m+\u001b[39m [tlst[:]] \u001b[38;5;241m+\u001b[39m [f_lst[i:]]\n",
      "\u001b[0;31mTypeError\u001b[0m: '>' not supported between instances of 'list' and 'int'"
     ]
    }
   ],
   "source": [
    "\n",
    "T = int(input())\n",
    "\n",
    "for t in range(1, T+1):\n",
    "    \n",
    "    # 수열의 길이 N, 수열의 개수 M\n",
    "    N, M = map(int, input().split())\n",
    "\n",
    "    f_lst = list(map(int, input().split()))\n",
    "    \n",
    "    # 나머지 lst\n",
    "    for _ in range(M-1):\n",
    "        \n",
    "        tlst = list(map(int, input().split()))\n",
    "        \n",
    "        v = tlst[0]\n",
    "        \n",
    "        # for, if, else\n",
    "        \n",
    "        flag= True\n",
    "        \n",
    "        for i in range(len(f_lst)):\n",
    "            \n",
    "            # 0 1 2 3\n",
    "            if f_lst[i] > v:\n",
    "                flag = False\n",
    "                f_lst = [f_lst[:i]] + [tlst[:]] + [f_lst[i:]]\n",
    "            \n",
    "            else:\n",
    "                flag = True\n",
    "                \n",
    "        \n",
    "        if flag:\n",
    "            f_lst = [tlst[:]] + [f_lst[:]]\n",
    "            \n",
    "    \n",
    "    \n",
    "    print(f_lst)\n",
    "                \n",
    "                \n",
    "                \n",
    "            \n",
    "            \n",
    "        \n",
    "        \n",
    "        "
   ]
  },
  {
   "cell_type": "code",
   "execution_count": null,
   "id": "8fd3a979",
   "metadata": {},
   "outputs": [],
   "source": [
    "def mergeSeqLists():\n",
    "    \n",
    "    first_seq = list(map(int, input().split()))\n",
    "\n",
    "    for _ in range(M - 1):\n",
    "        \n",
    "        seq_len = len(first_seq)\n",
    "        \n",
    "        next_seq = list(map(int, input().split()))\n",
    "\n",
    "        for i in range(seq_len):\n",
    "            \n",
    "            if first_seq[i] > next_seq[0]:\n",
    "                first_seq[i:0] = next_seq\n",
    "                break\n",
    "\n",
    "        if seq_len == len(first_seq):\n",
    "            first_seq.extend(next_seq)\n",
    "\n",
    "    return first_seq\n",
    "\n",
    "T = int(input())\n",
    "\n",
    "for t in range(1, T+1):\n",
    "    \n",
    "    N, M = map(int, input().split())\n",
    "\n",
    "    ans = mergeSeqLists()\n",
    "\n",
    "    ans = ' '.join(str(n) for n in ans[-1:-11:-1])\n",
    "    \n",
    "    \n",
    "    print(f'#{t} {ans}')\n",
    "\n"
   ]
  }
 ],
 "metadata": {
  "kernelspec": {
   "display_name": "Python 3 (ipykernel)",
   "language": "python",
   "name": "python3"
  },
  "language_info": {
   "codemirror_mode": {
    "name": "ipython",
    "version": 3
   },
   "file_extension": ".py",
   "mimetype": "text/x-python",
   "name": "python",
   "nbconvert_exporter": "python",
   "pygments_lexer": "ipython3",
   "version": "3.8.16"
  },
  "toc": {
   "base_numbering": 1,
   "nav_menu": {},
   "number_sections": true,
   "sideBar": true,
   "skip_h1_title": false,
   "title_cell": "Table of Contents",
   "title_sidebar": "Contents",
   "toc_cell": false,
   "toc_position": {},
   "toc_section_display": true,
   "toc_window_display": false
  },
  "varInspector": {
   "cols": {
    "lenName": 16,
    "lenType": 16,
    "lenVar": 40
   },
   "kernels_config": {
    "python": {
     "delete_cmd_postfix": "",
     "delete_cmd_prefix": "del ",
     "library": "var_list.py",
     "varRefreshCmd": "print(var_dic_list())"
    },
    "r": {
     "delete_cmd_postfix": ") ",
     "delete_cmd_prefix": "rm(",
     "library": "var_list.r",
     "varRefreshCmd": "cat(var_dic_list()) "
    }
   },
   "types_to_exclude": [
    "module",
    "function",
    "builtin_function_or_method",
    "instance",
    "_Feature"
   ],
   "window_display": false
  }
 },
 "nbformat": 4,
 "nbformat_minor": 5
}
