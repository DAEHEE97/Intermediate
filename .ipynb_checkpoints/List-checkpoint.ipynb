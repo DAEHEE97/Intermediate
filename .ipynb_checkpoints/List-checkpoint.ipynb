{
 "cells": [
  {
   "cell_type": "markdown",
   "id": "e523054a",
   "metadata": {},
   "source": [
    "# List"
   ]
  },
  {
   "cell_type": "markdown",
   "id": "cd76b682",
   "metadata": {},
   "source": [
    "---"
   ]
  },
  {
   "cell_type": "markdown",
   "id": "94b6df67",
   "metadata": {},
   "source": [
    "- 학습 목표\n",
    "\n",
    "1. 알고리즘의 개념을 이해하고 설명할 수 있다.\n",
    "2. 리스트의 개념과 필요성을 이해하고 설명할 수 있다.\n",
    "3. 1차원 리스트를 활용할 수 있다.\n",
    "4. 완전 검색의 개념을 설명할 수 있다.\n",
    "5. 탐욕 알고리즘에 대해 설명할 수 있다.\n",
    "6. 정렬의 개념에 대하여 설명할 수 있다.\n",
    "7. 버블 정렬의 정렬 방식을 설명할 수 있다.\n",
    "8. 카운팅 정렬의 정렬 방식을 설명할 수 있다.\n",
    "\n",
    "\n",
    "1. 2차원 리스트를 선언하고 활용할 수 있다.\n",
    "2. 2차원 리스트의 순회 방법을 이해하고 활용할 수 있다.\n",
    "3. 부분집합을 구하는 알고리즘을 이해하고 활용할 수 있다.\n",
    "4. 검색의 개념을 설명할 수 있다.\n",
    "5. 순차 검색에 대해 이해하고 활용할 수 있다.\n",
    "6. 이진 검색에 대해 이해하고 활용할 수 있다.\n",
    "7. 인덱스 개념을 이해하고 활용할 수 있다.\n",
    "8. 셀렉션 알고리즘에 대하여 설명할 수 있다.\n",
    "9. 선택 정렬을 이해하고 활용할 수 있다.\n",
    "\n"
   ]
  },
  {
   "cell_type": "markdown",
   "id": "35b1cf81",
   "metadata": {},
   "source": [
    "---"
   ]
  },
  {
   "cell_type": "markdown",
   "id": "80d3cf0d",
   "metadata": {},
   "source": [
    "## 알고리즘"
   ]
  },
  {
   "cell_type": "markdown",
   "id": "18ea81b4",
   "metadata": {},
   "source": [
    "---"
   ]
  },
  {
   "cell_type": "markdown",
   "id": "7854f397",
   "metadata": {},
   "source": [
    "## List"
   ]
  },
  {
   "cell_type": "markdown",
   "id": "689d4c3d",
   "metadata": {},
   "source": [
    "---"
   ]
  },
  {
   "cell_type": "markdown",
   "id": "10cc872f",
   "metadata": {},
   "source": [
    "## Exhaustive Search"
   ]
  },
  {
   "cell_type": "markdown",
   "id": "9be4416d",
   "metadata": {},
   "source": [
    "---"
   ]
  },
  {
   "cell_type": "markdown",
   "id": "71a60025",
   "metadata": {},
   "source": [
    "## Greedy Algorithm"
   ]
  },
  {
   "cell_type": "markdown",
   "id": "92e44139",
   "metadata": {},
   "source": [
    "---"
   ]
  },
  {
   "cell_type": "markdown",
   "id": "032563b1",
   "metadata": {},
   "source": [
    "## Sort"
   ]
  },
  {
   "cell_type": "markdown",
   "id": "defd01c8",
   "metadata": {},
   "source": [
    "---"
   ]
  },
  {
   "cell_type": "markdown",
   "id": "26b916b0",
   "metadata": {},
   "source": [
    "## 2차원 List"
   ]
  },
  {
   "cell_type": "markdown",
   "id": "b5097728",
   "metadata": {},
   "source": [
    "---"
   ]
  },
  {
   "cell_type": "markdown",
   "id": "cbfd405e",
   "metadata": {},
   "source": [
    "## 부분 집합"
   ]
  },
  {
   "cell_type": "markdown",
   "id": "d218f6eb",
   "metadata": {},
   "source": [
    "---"
   ]
  },
  {
   "cell_type": "markdown",
   "id": "44c02816",
   "metadata": {},
   "source": [
    "## 검색"
   ]
  },
  {
   "cell_type": "markdown",
   "id": "c8974918",
   "metadata": {},
   "source": [
    "---"
   ]
  },
  {
   "cell_type": "markdown",
   "id": "0e62fa74",
   "metadata": {},
   "source": [
    "## 정렬"
   ]
  }
 ],
 "metadata": {
  "kernelspec": {
   "display_name": "Python 3 (ipykernel)",
   "language": "python",
   "name": "python3"
  },
  "language_info": {
   "codemirror_mode": {
    "name": "ipython",
    "version": 3
   },
   "file_extension": ".py",
   "mimetype": "text/x-python",
   "name": "python",
   "nbconvert_exporter": "python",
   "pygments_lexer": "ipython3",
   "version": "3.8.16"
  },
  "toc": {
   "base_numbering": 1,
   "nav_menu": {},
   "number_sections": true,
   "sideBar": true,
   "skip_h1_title": false,
   "title_cell": "Table of Contents",
   "title_sidebar": "Contents",
   "toc_cell": false,
   "toc_position": {
    "height": "calc(100% - 180px)",
    "left": "10px",
    "top": "150px",
    "width": "317.796875px"
   },
   "toc_section_display": true,
   "toc_window_display": false
  },
  "varInspector": {
   "cols": {
    "lenName": 16,
    "lenType": 16,
    "lenVar": 40
   },
   "kernels_config": {
    "python": {
     "delete_cmd_postfix": "",
     "delete_cmd_prefix": "del ",
     "library": "var_list.py",
     "varRefreshCmd": "print(var_dic_list())"
    },
    "r": {
     "delete_cmd_postfix": ") ",
     "delete_cmd_prefix": "rm(",
     "library": "var_list.r",
     "varRefreshCmd": "cat(var_dic_list()) "
    }
   },
   "types_to_exclude": [
    "module",
    "function",
    "builtin_function_or_method",
    "instance",
    "_Feature"
   ],
   "window_display": false
  }
 },
 "nbformat": 4,
 "nbformat_minor": 5
}
