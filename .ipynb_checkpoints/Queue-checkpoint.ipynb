{
 "cells": [
  {
   "cell_type": "markdown",
   "id": "33ca7012",
   "metadata": {},
   "source": [
    "# Queue\n",
    "\n",
    "- 선입 선출 First In First Out (FIFO)"
   ]
  },
  {
   "cell_type": "markdown",
   "id": "3708d343",
   "metadata": {},
   "source": [
    "---"
   ]
  },
  {
   "cell_type": "markdown",
   "id": "dc4fd733",
   "metadata": {},
   "source": [
    "## Queue DS\n",
    "\n",
    "- 선형 큐 - lst\n",
    "\n",
    "    - 삽입, 삭제 처리속도 빠름\n",
    "\n",
    "    - 메모리 낭비가 심함\n",
    "\n",
    "        - 원형 큐 사용, \n",
    "        - 파이썬 lst 사용, 그러나 데이터 이동시키는 연산 수행시 많은 시간 소모\n",
    "        - linked lst로 구현한 큐사용으로, 메모리 동적 확보\n",
    "        \n",
    "- 원형 큐 - lst\n",
    "\n",
    "    - 1차원 리스트를 사용하되, 논리적으로 리스트의 처음과 끝이 연결되어, 원형 형태의 큐를 이룬다고 가정하고 사용\n",
    "\n",
    "- 연결 큐 - linked lst\n",
    "\n",
    "\n",
    "- 우선순위 큐 - linked lst\n",
    "    - 우선순위를 가진 항목들을 저장하는 큐\n",
    "    - FIFO 순서가 아니라, 우선순위가 높은 순서대로 먼저 나가게됨\n",
    "    \n",
    "    - 시물레이션 시스템, 네트워크 트래픽 제어, 운영체제 테스크 스케줄링\n",
    "    \n"
   ]
  }
 ],
 "metadata": {
  "kernelspec": {
   "display_name": "Python 3 (ipykernel)",
   "language": "python",
   "name": "python3"
  },
  "language_info": {
   "codemirror_mode": {
    "name": "ipython",
    "version": 3
   },
   "file_extension": ".py",
   "mimetype": "text/x-python",
   "name": "python",
   "nbconvert_exporter": "python",
   "pygments_lexer": "ipython3",
   "version": "3.8.16"
  },
  "toc": {
   "base_numbering": 1,
   "nav_menu": {},
   "number_sections": true,
   "sideBar": true,
   "skip_h1_title": false,
   "title_cell": "Table of Contents",
   "title_sidebar": "Contents",
   "toc_cell": false,
   "toc_position": {},
   "toc_section_display": true,
   "toc_window_display": false
  },
  "varInspector": {
   "cols": {
    "lenName": 16,
    "lenType": 16,
    "lenVar": 40
   },
   "kernels_config": {
    "python": {
     "delete_cmd_postfix": "",
     "delete_cmd_prefix": "del ",
     "library": "var_list.py",
     "varRefreshCmd": "print(var_dic_list())"
    },
    "r": {
     "delete_cmd_postfix": ") ",
     "delete_cmd_prefix": "rm(",
     "library": "var_list.r",
     "varRefreshCmd": "cat(var_dic_list()) "
    }
   },
   "types_to_exclude": [
    "module",
    "function",
    "builtin_function_or_method",
    "instance",
    "_Feature"
   ],
   "window_display": false
  }
 },
 "nbformat": 4,
 "nbformat_minor": 5
}
