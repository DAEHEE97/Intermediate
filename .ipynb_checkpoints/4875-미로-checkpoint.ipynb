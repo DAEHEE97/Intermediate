{
 "cells": [
  {
   "cell_type": "markdown",
   "id": "e8ae3ba4",
   "metadata": {},
   "source": [
    "#  4875. [파이썬 S/W 문제해결 기본] 5일차 - 미로"
   ]
  },
  {
   "cell_type": "markdown",
   "id": "a3c96289",
   "metadata": {},
   "source": [
    "---"
   ]
  },
  {
   "cell_type": "markdown",
   "id": "93f86d60",
   "metadata": {},
   "source": [
    "- 입력 N 제대로 처리\n",
    "\n",
    "- arr[ni][nj] == 0 처리시, 도착지점에도 도착을 하지 못함.\n"
   ]
  },
  {
   "cell_type": "code",
   "execution_count": 1,
   "id": "66496bb5",
   "metadata": {},
   "outputs": [],
   "source": [
    "from collections import deque\n",
    "\n",
    "def bfs(si,sj,ei,ej):\n",
    "    \n",
    "    q = deque()\n",
    "    \n",
    "    q.append((si,sj))\n",
    "    v[si][sj] = 1\n",
    "    \n",
    "    while q:\n",
    "        \n",
    "        ci,cj = q.popleft()\n",
    "        \n",
    "        if (ci,cj) == (ei,ej):\n",
    "            \n",
    "            return 1\n",
    "        \n",
    "        # 4방향\n",
    "        for di,dj in ((1,0),(-1,0),(0,1),(0,-1)):\n",
    "            \n",
    "            ni,nj = ci+di, cj+dj\n",
    "            \n",
    "            # 범위내, 벽이 아닌경우, 중복x *arr[ni][nj] == 0 인경우 x, 도착지점에 가지 못함.\n",
    "            if 0<=ni<N and 0<=nj<N and arr[ni][nj] != 1 and v[ni][nj] == 0:\n",
    "                \n",
    "                q.append((ni,nj))\n",
    "                v[ni][nj] = 1\n",
    "                \n",
    "\n",
    "    return 0"
   ]
  },
  {
   "cell_type": "code",
   "execution_count": 2,
   "id": "ec6cc3c1",
   "metadata": {},
   "outputs": [
    {
     "name": "stdout",
     "output_type": "stream",
     "text": [
      "1\n",
      "5\n",
      "13101\n",
      "10101\n",
      "10101\n",
      "10101\n",
      "10021\n",
      "#1 1\n"
     ]
    }
   ],
   "source": [
    "T = int(input())\n",
    "\n",
    "for t in range(1, T+1):\n",
    "    \n",
    "    N = int(input())\n",
    "    \n",
    "    arr = [ list(map(int, input())) for _ in range(N) ] \n",
    "    \n",
    "    # 1-1)\n",
    "    si,sj,ei,ej = 0,0,0,0\n",
    "\n",
    "    for i in range(N):\n",
    "        \n",
    "        for j in range(N):\n",
    "            \n",
    "            if arr[i][j] == 2:\n",
    "                si, sj = i, j\n",
    "            \n",
    "            if arr[i][j] == 3:\n",
    "                ei, ej = i, j\n",
    "                \n",
    "    #  0은 통로, 1은 벽, 2는 출발, 3은 도착\n",
    "    # 도착 가능 한지 체크\n",
    "    \n",
    "    v = [ [0]*N for _ in range(N) ]\n",
    "    \n",
    "    ans = bfs(si,sj,ei,ej)\n",
    "    \n",
    "    print(f'#{t} {ans}')\n"
   ]
  },
  {
   "cell_type": "markdown",
   "id": "d9b05407",
   "metadata": {},
   "source": [
    "---"
   ]
  },
  {
   "cell_type": "code",
   "execution_count": 3,
   "id": "1a41b505",
   "metadata": {},
   "outputs": [
    {
     "data": {
      "text/plain": [
       "[[0, 1, 0, 1, 0],\n",
       " [0, 1, 0, 1, 0],\n",
       " [0, 1, 0, 1, 0],\n",
       " [0, 1, 0, 1, 0],\n",
       " [0, 1, 1, 1, 0]]"
      ]
     },
     "execution_count": 3,
     "metadata": {},
     "output_type": "execute_result"
    }
   ],
   "source": [
    "v"
   ]
  },
  {
   "cell_type": "code",
   "execution_count": 4,
   "id": "0071c661",
   "metadata": {},
   "outputs": [
    {
     "data": {
      "text/plain": [
       "[[1, 3, 1, 0, 1],\n",
       " [1, 0, 1, 0, 1],\n",
       " [1, 0, 1, 0, 1],\n",
       " [1, 0, 1, 0, 1],\n",
       " [1, 0, 0, 2, 1]]"
      ]
     },
     "execution_count": 4,
     "metadata": {},
     "output_type": "execute_result"
    }
   ],
   "source": [
    "arr"
   ]
  }
 ],
 "metadata": {
  "kernelspec": {
   "display_name": "Python 3 (ipykernel)",
   "language": "python",
   "name": "python3"
  },
  "language_info": {
   "codemirror_mode": {
    "name": "ipython",
    "version": 3
   },
   "file_extension": ".py",
   "mimetype": "text/x-python",
   "name": "python",
   "nbconvert_exporter": "python",
   "pygments_lexer": "ipython3",
   "version": "3.8.16"
  },
  "toc": {
   "base_numbering": 1,
   "nav_menu": {},
   "number_sections": true,
   "sideBar": true,
   "skip_h1_title": false,
   "title_cell": "Table of Contents",
   "title_sidebar": "Contents",
   "toc_cell": false,
   "toc_position": {},
   "toc_section_display": true,
   "toc_window_display": false
  },
  "varInspector": {
   "cols": {
    "lenName": 16,
    "lenType": 16,
    "lenVar": 40
   },
   "kernels_config": {
    "python": {
     "delete_cmd_postfix": "",
     "delete_cmd_prefix": "del ",
     "library": "var_list.py",
     "varRefreshCmd": "print(var_dic_list())"
    },
    "r": {
     "delete_cmd_postfix": ") ",
     "delete_cmd_prefix": "rm(",
     "library": "var_list.r",
     "varRefreshCmd": "cat(var_dic_list()) "
    }
   },
   "types_to_exclude": [
    "module",
    "function",
    "builtin_function_or_method",
    "instance",
    "_Feature"
   ],
   "window_display": false
  }
 },
 "nbformat": 4,
 "nbformat_minor": 5
}
