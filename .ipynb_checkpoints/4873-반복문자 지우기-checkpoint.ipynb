{
 "cells": [
  {
   "cell_type": "markdown",
   "id": "859374ce",
   "metadata": {},
   "source": [
    "# 4873. [파이썬 S/W 문제해결 기본] 4일차 - 반복문자 지우기\n",
    "\n",
    "- 이전 문자와의 비교 처리, stack"
   ]
  },
  {
   "cell_type": "markdown",
   "id": "529fb7bd",
   "metadata": {},
   "source": [
    "---"
   ]
  },
  {
   "cell_type": "markdown",
   "id": "8cd00824",
   "metadata": {},
   "source": [
    "## sol 1"
   ]
  },
  {
   "cell_type": "code",
   "execution_count": 2,
   "id": "cf4057e5",
   "metadata": {},
   "outputs": [
    {
     "name": "stdout",
     "output_type": "stream",
     "text": [
      "3\n",
      "ABCCB\n",
      "#1 0\n",
      "NNNASBBSNV\n",
      "#2 0\n",
      "UKJWHGGHNFTCRRCTWLALX\n",
      "#3 0\n"
     ]
    }
   ],
   "source": [
    "T = int(input())\n",
    "\n",
    "for t in range(1, T+1):\n",
    "    \n",
    "    s = list(input())\n",
    "    \n",
    "    stack = []\n",
    "            \n",
    "        \n",
    "    for c in s:\n",
    "        \n",
    "        # 스택이 비어있는경우 랑 그렇지 않은 경우를 아예 나눠야 함\n",
    "        if len(stack) == 0:\n",
    "            stack.append(c)\n",
    "            \n",
    "        else:\n",
    "            \n",
    "            if stack[-1] == c:\n",
    "                stack.pop()\n",
    "            \n",
    "            else:\n",
    "                stack.append(c)\n",
    "    \n",
    "    \n",
    "    print(f'#{t} {len(stack)}')\n",
    "    "
   ]
  },
  {
   "cell_type": "markdown",
   "id": "01634c63",
   "metadata": {},
   "source": [
    "---"
   ]
  },
  {
   "cell_type": "markdown",
   "id": "7ac120e3",
   "metadata": {},
   "source": [
    "## error"
   ]
  },
  {
   "cell_type": "code",
   "execution_count": null,
   "id": "cd8d9296",
   "metadata": {},
   "outputs": [],
   "source": [
    "    for c in s:\n",
    "        \n",
    "        # 1-1) 스택이 비어있으면 삽입\n",
    "        if len(stack) == 0:\n",
    "            stack.append(c)\n",
    "            \n",
    "        # 1-2) c가 삽입되어 있는 상태에서 한번더 조건 검사 > 바로 pop 됨\n",
    "        if stack[-1] == c:\n",
    "            stack.pop()\n",
    "        else:\n",
    "            stack.append(c)"
   ]
  }
 ],
 "metadata": {
  "kernelspec": {
   "display_name": "Python 3 (ipykernel)",
   "language": "python",
   "name": "python3"
  },
  "language_info": {
   "codemirror_mode": {
    "name": "ipython",
    "version": 3
   },
   "file_extension": ".py",
   "mimetype": "text/x-python",
   "name": "python",
   "nbconvert_exporter": "python",
   "pygments_lexer": "ipython3",
   "version": "3.8.16"
  },
  "toc": {
   "base_numbering": 1,
   "nav_menu": {},
   "number_sections": true,
   "sideBar": true,
   "skip_h1_title": false,
   "title_cell": "Table of Contents",
   "title_sidebar": "Contents",
   "toc_cell": false,
   "toc_position": {},
   "toc_section_display": true,
   "toc_window_display": false
  },
  "varInspector": {
   "cols": {
    "lenName": 16,
    "lenType": 16,
    "lenVar": 40
   },
   "kernels_config": {
    "python": {
     "delete_cmd_postfix": "",
     "delete_cmd_prefix": "del ",
     "library": "var_list.py",
     "varRefreshCmd": "print(var_dic_list())"
    },
    "r": {
     "delete_cmd_postfix": ") ",
     "delete_cmd_prefix": "rm(",
     "library": "var_list.r",
     "varRefreshCmd": "cat(var_dic_list()) "
    }
   },
   "types_to_exclude": [
    "module",
    "function",
    "builtin_function_or_method",
    "instance",
    "_Feature"
   ],
   "window_display": false
  }
 },
 "nbformat": 4,
 "nbformat_minor": 5
}
