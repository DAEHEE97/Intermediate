{
 "cells": [
  {
   "cell_type": "markdown",
   "id": "4142bbcf",
   "metadata": {},
   "source": [
    "# 4834. [파이썬 S/W 문제해결 기본] 1일차 - 숫자 카드"
   ]
  },
  {
   "cell_type": "markdown",
   "id": "cc99df94",
   "metadata": {},
   "source": [
    "---"
   ]
  },
  {
   "cell_type": "code",
   "execution_count": 1,
   "id": "bd899132",
   "metadata": {},
   "outputs": [
    {
     "name": "stdout",
     "output_type": "stream",
     "text": [
      "3\n",
      "5\n",
      "49679\n",
      "#1 9 2\n",
      "5\n",
      "08271\n",
      "#2 8 1\n",
      "10\n",
      "7797946543\n",
      "#3 7 3\n"
     ]
    }
   ],
   "source": [
    "T = int(input())\n",
    "\n",
    "\n",
    "for t in range(1, T+1):\n",
    "    \n",
    "    \n",
    "    _ = input()\n",
    "    \n",
    "    # lst [4,5,6,7,9] < str '45679' \n",
    "    \n",
    "    lst = list(map(int, input()))\n",
    "    \n",
    "    # 카운트 값, 최대 카운트인 값 출력\n",
    "    cnt_lst = [0] * 10\n",
    "    \n",
    "    for i in range(0, 9+1):\n",
    "        cnt_lst[i] = lst.count(i)\n",
    "    \n",
    "    cnt = max(cnt_lst)\n",
    "    \n",
    "    idx_lst = [ i for i,v in enumerate(cnt_lst) if v == max(cnt_lst) ]\n",
    "\n",
    "    ans = idx_lst[-1]\n",
    "    \n",
    "    print('#{0} {1} {2}'.format(t, ans, cnt ))"
   ]
  },
  {
   "cell_type": "markdown",
   "id": "875acb31",
   "metadata": {},
   "source": [
    "---"
   ]
  },
  {
   "cell_type": "code",
   "execution_count": 3,
   "id": "bdcafd8d",
   "metadata": {},
   "outputs": [
    {
     "name": "stdout",
     "output_type": "stream",
     "text": [
      "49679\n",
      "9 2\n"
     ]
    }
   ],
   "source": [
    "    lst = list(map(int, input()))\n",
    "    \n",
    "    cnt_lst = [0] * 10    \n",
    "    for i in range(0, 9+1):\n",
    "        cnt_lst[i] = lst.count(i)\n",
    "    \n",
    "    cnt = max(cnt_lst)\n",
    "    \n",
    "    # tuple 형\n",
    "    ans_lst = [ (i, v) for i,v in enumerate(cnt_lst) if v == max(cnt_lst) ]\n",
    "\n",
    "    print(ans_lst[-1][0], ans_lst[-1][1])\n"
   ]
  }
 ],
 "metadata": {
  "kernelspec": {
   "display_name": "Python 3 (ipykernel)",
   "language": "python",
   "name": "python3"
  },
  "language_info": {
   "codemirror_mode": {
    "name": "ipython",
    "version": 3
   },
   "file_extension": ".py",
   "mimetype": "text/x-python",
   "name": "python",
   "nbconvert_exporter": "python",
   "pygments_lexer": "ipython3",
   "version": "3.8.16"
  },
  "toc": {
   "base_numbering": 1,
   "nav_menu": {},
   "number_sections": true,
   "sideBar": true,
   "skip_h1_title": false,
   "title_cell": "Table of Contents",
   "title_sidebar": "Contents",
   "toc_cell": false,
   "toc_position": {},
   "toc_section_display": true,
   "toc_window_display": false
  },
  "varInspector": {
   "cols": {
    "lenName": 16,
    "lenType": 16,
    "lenVar": 40
   },
   "kernels_config": {
    "python": {
     "delete_cmd_postfix": "",
     "delete_cmd_prefix": "del ",
     "library": "var_list.py",
     "varRefreshCmd": "print(var_dic_list())"
    },
    "r": {
     "delete_cmd_postfix": ") ",
     "delete_cmd_prefix": "rm(",
     "library": "var_list.r",
     "varRefreshCmd": "cat(var_dic_list()) "
    }
   },
   "types_to_exclude": [
    "module",
    "function",
    "builtin_function_or_method",
    "instance",
    "_Feature"
   ],
   "window_display": false
  }
 },
 "nbformat": 4,
 "nbformat_minor": 5
}
