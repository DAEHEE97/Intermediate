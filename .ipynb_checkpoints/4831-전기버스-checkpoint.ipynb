{
 "cells": [
  {
   "cell_type": "markdown",
   "id": "9b18daeb",
   "metadata": {},
   "source": [
    "# [4831. [파이썬 S/W 문제해결 기본] 1일차 - 전기버스](https://swexpertacademy.com/main/learn/course/subjectDetail.do?courseId=AVuPDN86AAXw5UW6&subjectId=AWOVFCzaqeUDFAWg#)"
   ]
  },
  {
   "cell_type": "markdown",
   "id": "34d72ac9",
   "metadata": {},
   "source": [
    "---"
   ]
  },
  {
   "cell_type": "markdown",
   "id": "856ab61e",
   "metadata": {},
   "source": [
    "A도시는 전기버스를 운행하려고 한다. 전기버스는 한번 충전으로 이동할 수 있는 정류장 수가 정해져 있어서, 중간에 충전기가 설치된 정류장을 만들기로 했다.\n",
    "\n",
    "\n",
    "버스는 0번에서 출발해 종점인 N번 정류장까지 이동하고, 한번 충전으로 최대한 이동할 수 있는 정류장 수 K가 정해져 있다.\n",
    "\n",
    "\n",
    "충전기가 설치된 M개의 정류장 번호가 주어질 때, 최소한 몇 번의 충전을 해야 종점에 도착할 수 있는지 출력하는 프로그램을 만드시오.\n",
    "\n",
    "\n",
    "만약 충전기 설치가 잘못되어 종점에 도착할 수 없는 경우는 0을 출력한다. 출발지에는 항상 충전기가 설치되어 있지만 충전횟수에는 포함하지 않는다.\n",
    " \n",
    "\n",
    "\n",
    "- [예시]\n",
    "\n",
    "\n",
    "\n",
    "다음은 K = 3, N = 10, M = 5, 충전기가 설치된 정류장이 1, 3, 5, 7, 9인 경우의 예이다.\n",
    "\n",
    " \n",
    "3\n",
    "3 10 5\n",
    "1 3 5 7 9\n",
    "\n",
    "\n",
    "- [입력]\n",
    " \n",
    "\n",
    "첫 줄에 노선 수 T가 주어진다.  ( 1 ≤ T ≤ 50 )\n",
    "\n",
    "\n",
    "각 노선별로 K, N, M이 주어지고, 다음줄에 M개의 정류장 번호가 주어진다. ( 1 ≤ K, N, M ≤ 100 )\n",
    " \n",
    "\n",
    "- [출력]\n",
    "\n",
    "\n",
    "#과 노선번호, 빈칸에 이어 최소 충전횟수 또는 0을 출력한다."
   ]
  },
  {
   "cell_type": "markdown",
   "id": "15a9e80e",
   "metadata": {},
   "source": [
    "---"
   ]
  },
  {
   "cell_type": "markdown",
   "id": "edc0aab0",
   "metadata": {},
   "source": [
    "## sol 1"
   ]
  },
  {
   "cell_type": "code",
   "execution_count": null,
   "id": "1f54af3a",
   "metadata": {},
   "outputs": [],
   "source": [
    "T = int(input())\n",
    "\n",
    "for t in range(1, T+1):\n",
    "    \n",
    "    K, N, M = map(int, input().split())\n",
    "    \n",
    "    lst = [0] + list(map(int, input().split())) + [N]\n",
    "\n",
    "    ans = 0\n",
    "    \n",
    "    si = 0\n",
    "    \n",
    "    # 출발지,1,2,3,4,5, 종점 \n",
    "    for i in range(1, M + 2):\n",
    "        \n",
    "        # 충전이 불가하면, 종료\n",
    "        if lst[i] - lst[i-1] > K:\n",
    "            ans = 0\n",
    "            break\n",
    "        \n",
    "        # 거리 K가 초과되면, 그 이전 충전소에서 충전 \n",
    "        if lst[i] - si > K:\n",
    "            \n",
    "            si = lst[i-1]\n",
    "            \n",
    "            print(si)\n",
    "            \n",
    "            ans += 1\n",
    "            \n",
    "    print('#{0} {1}'.format(t, ans))"
   ]
  },
  {
   "cell_type": "markdown",
   "id": "8783a868",
   "metadata": {},
   "source": [
    "---"
   ]
  },
  {
   "cell_type": "markdown",
   "id": "2337d48d",
   "metadata": {},
   "source": [
    "## sol 2"
   ]
  },
  {
   "cell_type": "code",
   "execution_count": null,
   "id": "f04c6cdc",
   "metadata": {},
   "outputs": [],
   "source": [
    "T = int(input())\n",
    "\n",
    "for t in range(1, T+1):\n",
    "    \n",
    "    K, N, M = map(int, input().split())\n",
    "\n",
    "    charger = [0] * (N + 1)\n",
    "\n",
    "    lst = list(map(int, input().split()))\n",
    "\n",
    "    for i in lst:\n",
    "        charger[i] = 1\n",
    "\n",
    "    si = 0  # 현재 위치 초기화\n",
    "    cnt = 0  # 충전 횟수 초기화\n",
    "\n",
    "    while True:\n",
    "\n",
    "        # 1-1) 종료조건\n",
    "        if si + K >= N:\n",
    "            break\n",
    "\n",
    "        # 1-2) 현재 위치에서 충전 여부를 나타내는 플래그\n",
    "        flag = False  \n",
    "        \n",
    "        # 1-3) 충전 가능 여부 확인, 뒤에서 부터 우선 처리\n",
    "        for i in range(si + K, si, -1):\n",
    "\n",
    "            if charger[i] == 1:  # 충전기가 설치된 정류장인 경우, 해당 정류장으로 이동, cnt, flag\n",
    "                si = i  \n",
    "                cnt += 1 \n",
    "                flag = True \n",
    "                break\n",
    "\n",
    "\n",
    "        # 1-3) 검사 후, flag 그대로  > 충전 불가 \n",
    "        if flag == False:  \n",
    "            cnt = 0 \n",
    "            break\n",
    "    \n",
    "\n",
    "    \n",
    "    print(f'#{t} {cnt}')\n"
   ]
  },
  {
   "cell_type": "markdown",
   "id": "66a80ad8",
   "metadata": {},
   "source": [
    "---"
   ]
  },
  {
   "cell_type": "markdown",
   "id": "4bf2f1db",
   "metadata": {},
   "source": [
    "## sol 3"
   ]
  },
  {
   "cell_type": "code",
   "execution_count": null,
   "id": "aea1f998",
   "metadata": {},
   "outputs": [],
   "source": [
    "T = int(input())\n",
    "\n",
    "for t in range(1, T+1):\n",
    "    \n",
    "    \n",
    "    K, N, M = map(int, input().split())\n",
    "    \n",
    "\n",
    "    charger = [0] * (N+1)\n",
    "    lst = list(map(int, input().split()))\n",
    "    for i in lst:   \n",
    "        charger[i] = 1\n",
    "        \n",
    "    \n",
    "    cnt = 0\n",
    "    si = 0\n",
    "    \n",
    "    # si 기준 \n",
    "    while True:\n",
    "        \n",
    "        tmp = []\n",
    "        \n",
    "        for i in range(si, si+K+1):\n",
    "            \n",
    "            if charger[i] == 1:\n",
    "                tmp.append(i)\n",
    "                charger[i] = 0 # 충전후 중복 방지 처리\n",
    "        \n",
    "        # 종료\n",
    "        if len(tmp) == 0:\n",
    "            cnt = 0\n",
    "            break\n",
    "        \n",
    "        else:\n",
    "            \n",
    "            # 제일 마지막 idx 가 시작 idx처리 \n",
    "            si = tmp[-1]\n",
    "            cnt += 1\n",
    "            \n",
    "            if si + K >= N:\n",
    "                break\n",
    "            \n",
    "    print(cnt)\n",
    "        "
   ]
  }
 ],
 "metadata": {
  "kernelspec": {
   "display_name": "Python 3 (ipykernel)",
   "language": "python",
   "name": "python3"
  },
  "language_info": {
   "codemirror_mode": {
    "name": "ipython",
    "version": 3
   },
   "file_extension": ".py",
   "mimetype": "text/x-python",
   "name": "python",
   "nbconvert_exporter": "python",
   "pygments_lexer": "ipython3",
   "version": "3.8.16"
  },
  "toc": {
   "base_numbering": 1,
   "nav_menu": {},
   "number_sections": true,
   "sideBar": true,
   "skip_h1_title": false,
   "title_cell": "Table of Contents",
   "title_sidebar": "Contents",
   "toc_cell": false,
   "toc_position": {},
   "toc_section_display": true,
   "toc_window_display": false
  },
  "varInspector": {
   "cols": {
    "lenName": 16,
    "lenType": 16,
    "lenVar": 40
   },
   "kernels_config": {
    "python": {
     "delete_cmd_postfix": "",
     "delete_cmd_prefix": "del ",
     "library": "var_list.py",
     "varRefreshCmd": "print(var_dic_list())"
    },
    "r": {
     "delete_cmd_postfix": ") ",
     "delete_cmd_prefix": "rm(",
     "library": "var_list.r",
     "varRefreshCmd": "cat(var_dic_list()) "
    }
   },
   "types_to_exclude": [
    "module",
    "function",
    "builtin_function_or_method",
    "instance",
    "_Feature"
   ],
   "window_display": false
  }
 },
 "nbformat": 4,
 "nbformat_minor": 5
}
