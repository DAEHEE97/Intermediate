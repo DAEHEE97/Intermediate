{
 "cells": [
  {
   "cell_type": "markdown",
   "id": "8858a18e",
   "metadata": {},
   "source": [
    "# 4866. [파이썬 S/W 문제해결 기본] 4일차 - 괄호 검사"
   ]
  },
  {
   "cell_type": "markdown",
   "id": "1d67ebcf",
   "metadata": {},
   "source": [
    "---"
   ]
  },
  {
   "cell_type": "code",
   "execution_count": 9,
   "id": "63d0b555",
   "metadata": {},
   "outputs": [],
   "source": [
    "def solve(lst):\n",
    "    \n",
    "    stack = []\n",
    "    \n",
    "    for c in lst:\n",
    "        \n",
    "        # 1-1) 여는 괄호면, 무조건 append\n",
    "        if c == '(' or c == '{':\n",
    "            \n",
    "            stack.append(c)\n",
    "            \n",
    "\n",
    "        # 1-2) 닫는 괄호 경우 \n",
    "        elif c == ')':\n",
    "            \n",
    "            # 1-3) 현재 stack이 비어있지 않으면서, [-1] 이 짝이 맞는 여는 괄호 라면, pop, \n",
    "            # stack의 길이를 우선 처리,  index error 처리\n",
    "            \n",
    "            if len(stack) != 0 and stack[-1] == '(':\n",
    "                stack.pop()\n",
    "            \n",
    "            # 1-4) pop 하는 경우가 아니라면, 그냥 append() 처리 > 종료 지점\n",
    "            else:\n",
    "                stack.append(c)\n",
    "                break \n",
    "                \n",
    "        \n",
    "        elif c == '}':\n",
    "            if len(stack) != 0 and stack[-1] == '{':\n",
    "                stack.pop()\n",
    "            \n",
    "            else:\n",
    "                stack.append(c)\n",
    "                break \n",
    "                \n",
    "            \n",
    "        # 1-5) 괄호가 아닌 나머지 문자들 pass\n",
    "        else:\n",
    "            continue\n",
    "\n",
    "            \n",
    "    \n",
    "    if len(stack) == 0:\n",
    "        return 1\n",
    "    else:\n",
    "        return 0\n",
    "                             \n",
    "            "
   ]
  },
  {
   "cell_type": "code",
   "execution_count": 10,
   "id": "69a6988e",
   "metadata": {},
   "outputs": [
    {
     "name": "stdout",
     "output_type": "stream",
     "text": [
      "3\n",
      "print('{} {}'.format(1, 2))\n",
      "#1 1\n",
      "N, M = map(int, input().split())\n",
      "#2 1\n",
      "print('#{} {}'.format(tc, find())\t\n",
      "#3 0\n"
     ]
    }
   ],
   "source": [
    "T = int(input())\n",
    "\n",
    "for t in range(1, T+1):\n",
    "    \n",
    "    lst = list(input())\n",
    "    \n",
    "    ans = solve(lst)\n",
    "    \n",
    "    print(f'#{t} {ans}')"
   ]
  }
 ],
 "metadata": {
  "kernelspec": {
   "display_name": "Python 3 (ipykernel)",
   "language": "python",
   "name": "python3"
  },
  "language_info": {
   "codemirror_mode": {
    "name": "ipython",
    "version": 3
   },
   "file_extension": ".py",
   "mimetype": "text/x-python",
   "name": "python",
   "nbconvert_exporter": "python",
   "pygments_lexer": "ipython3",
   "version": "3.8.16"
  },
  "toc": {
   "base_numbering": 1,
   "nav_menu": {},
   "number_sections": true,
   "sideBar": true,
   "skip_h1_title": false,
   "title_cell": "Table of Contents",
   "title_sidebar": "Contents",
   "toc_cell": false,
   "toc_position": {},
   "toc_section_display": true,
   "toc_window_display": false
  },
  "varInspector": {
   "cols": {
    "lenName": 16,
    "lenType": 16,
    "lenVar": 40
   },
   "kernels_config": {
    "python": {
     "delete_cmd_postfix": "",
     "delete_cmd_prefix": "del ",
     "library": "var_list.py",
     "varRefreshCmd": "print(var_dic_list())"
    },
    "r": {
     "delete_cmd_postfix": ") ",
     "delete_cmd_prefix": "rm(",
     "library": "var_list.r",
     "varRefreshCmd": "cat(var_dic_list()) "
    }
   },
   "types_to_exclude": [
    "module",
    "function",
    "builtin_function_or_method",
    "instance",
    "_Feature"
   ],
   "window_display": false
  }
 },
 "nbformat": 4,
 "nbformat_minor": 5
}
