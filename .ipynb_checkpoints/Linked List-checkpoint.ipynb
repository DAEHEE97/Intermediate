{
 "cells": [
  {
   "cell_type": "markdown",
   "id": "cfb804b2",
   "metadata": {},
   "source": [
    "## 리스트\n",
    "\n",
    "- 배열 : 크기 변경 불가, 선언된 한가지 타입만 저장 가능\n",
    "- lst : 크기 변경 가능, 다양한 데이터 타입 저장 가능\n",
    "\n",
    "\n",
    "순차 리스트 : 배열을 기반으로 구현된 리스트\n",
    "연결 리스트 : 메모리의 동적할당 으로 구현된 리스트\n"
   ]
  },
  {
   "cell_type": "markdown",
   "id": "cdc684f1",
   "metadata": {},
   "source": [
    "---"
   ]
  },
  {
   "cell_type": "markdown",
   "id": "a3ebc2a0",
   "metadata": {},
   "source": [
    "## 리스트 얕은 복사(shallow copy)\n"
   ]
  },
  {
   "cell_type": "code",
   "execution_count": 1,
   "id": "3af1f360",
   "metadata": {},
   "outputs": [
    {
     "data": {
      "text/plain": [
       "([1, 2, 3, 4, 0], [1, 2, 3, 4, 0])"
      ]
     },
     "execution_count": 1,
     "metadata": {},
     "output_type": "execute_result"
    }
   ],
   "source": [
    "# 주소의 복사, 얕은 복사(shallow copy)\n",
    "# 두 변수가 동일한 리스트 객체를 가리키며, 원본 리스트의 변경이 복사된 리스트에 영향을 미칩니다. \n",
    "# 따라서 원본 리스트나 복사본 중 하나를 수정하면 다른 리스트에도 동일한 수정 내용이 반영됩니다.\n",
    "\n",
    "old_lst = [1,2,3,4]\n",
    "\n",
    "new_lst = old_lst\n",
    "\n",
    "old_lst.append(0)\n",
    "\n",
    "old_lst, new_lst"
   ]
  },
  {
   "cell_type": "markdown",
   "id": "8af0d8e2",
   "metadata": {},
   "source": [
    "---"
   ]
  },
  {
   "cell_type": "markdown",
   "id": "dffa4654",
   "metadata": {},
   "source": [
    "## 리스트  깊은 복사(deep copy)"
   ]
  },
  {
   "cell_type": "code",
   "execution_count": 2,
   "id": "b4b1540b",
   "metadata": {},
   "outputs": [
    {
     "data": {
      "text/plain": [
       "([1, 2, 3, 4, 0], [1, 2, 3, 4])"
      ]
     },
     "execution_count": 2,
     "metadata": {},
     "output_type": "execute_result"
    }
   ],
   "source": [
    "# 슬라이싱, 깊은 복사\n",
    "\n",
    "old_lst = [1,2,3,4]\n",
    "\n",
    "new_lst = old_lst[:]\n",
    "\n",
    "old_lst.append(0)\n",
    "\n",
    "old_lst, new_lst"
   ]
  },
  {
   "cell_type": "code",
   "execution_count": 3,
   "id": "6d5c95b4",
   "metadata": {},
   "outputs": [
    {
     "data": {
      "text/plain": [
       "([1, 2, 3, 4, 0], [1, 2, 3, 4])"
      ]
     },
     "execution_count": 3,
     "metadata": {},
     "output_type": "execute_result"
    }
   ],
   "source": [
    "# extend(): 리스트를 추가하는 메서드, 깊은 복사₩\n",
    "old_lst = [1,2,3,4]\n",
    "\n",
    "new_lst = []\n",
    "\n",
    "new_lst.extend(old_lst)\n",
    "\n",
    "old_lst.append(0)\n",
    "\n",
    "old_lst, new_lst"
   ]
  },
  {
   "cell_type": "code",
   "execution_count": 4,
   "id": "91f3387b",
   "metadata": {},
   "outputs": [
    {
     "data": {
      "text/plain": [
       "([1, 2, 3, 4, 0], [1, 2, 3, 4])"
      ]
     },
     "execution_count": 4,
     "metadata": {},
     "output_type": "execute_result"
    }
   ],
   "source": [
    "# list(), 깊은 복사\n",
    "old_lst = [1,2,3,4]\n",
    "\n",
    "new_lst = list(old_lst)\n",
    "\n",
    "old_lst.append(0)\n",
    "\n",
    "old_lst, new_lst"
   ]
  },
  {
   "cell_type": "code",
   "execution_count": 5,
   "id": "e107d106",
   "metadata": {},
   "outputs": [
    {
     "data": {
      "text/plain": [
       "([1, 2, 3, 4, 0], [1, 2, 3, 4])"
      ]
     },
     "execution_count": 5,
     "metadata": {},
     "output_type": "execute_result"
    }
   ],
   "source": [
    "# copt(), 깊은 복사\n",
    "# 2차원 얕은 복사\n",
    "old_lst = [1,2,3,4]\n",
    "\n",
    "new_lst = old_lst.copy()\n",
    "\n",
    "old_lst.append(0)\n",
    "\n",
    "old_lst, new_lst"
   ]
  },
  {
   "cell_type": "code",
   "execution_count": 6,
   "id": "a7f3f6ba",
   "metadata": {},
   "outputs": [
    {
     "data": {
      "text/plain": [
       "([1, 2, 3, 4, 0], [1, 2, 3, 4])"
      ]
     },
     "execution_count": 6,
     "metadata": {},
     "output_type": "execute_result"
    }
   ],
   "source": [
    "# list comprehension, 깊은 복사\n",
    "old_lst = [1,2,3,4]\n",
    "\n",
    "new_lst = [v for v in old_lst]\n",
    "\n",
    "old_lst.append(0)\n",
    "\n",
    "old_lst, new_lst"
   ]
  },
  {
   "cell_type": "code",
   "execution_count": 7,
   "id": "7538251d",
   "metadata": {},
   "outputs": [
    {
     "data": {
      "text/plain": [
       "([1, 2, 3, 4, 0], [1, 2, 3, 4])"
      ]
     },
     "execution_count": 7,
     "metadata": {},
     "output_type": "execute_result"
    }
   ],
   "source": [
    "# deep copy 리스트 원소까지도 깊은 복사, 가장 느림, 깊은 복사\n",
    "# 2차원까지 깊은 복사\n",
    "\n",
    "import copy\n",
    "\n",
    "old_lst = [1,2,3,4]\n",
    "new_lst = copy.deepcopy(old_lst)\n",
    "\n",
    "old_lst.append(0)\n",
    "\n",
    "old_lst, new_lst"
   ]
  },
  {
   "cell_type": "markdown",
   "id": "38480ebb",
   "metadata": {},
   "source": [
    "---"
   ]
  },
  {
   "cell_type": "markdown",
   "id": "e83315d0",
   "metadata": {},
   "source": [
    "## 연결 리스트\n",
    "\n",
    "- 자료의 논리적인 순서와 메모리 상의 물리적인 순서가 일치하지 않고, 개별적으로 위치하고 있는 원소의 주소를 연결하여, 하나의 전체적인 자료구조를 이룸\n",
    "\n",
    "- 링크를 통해 원소에 접근하므로, 순차 리스트에서 물리적인 순서를 맞추기 위한 작업이 필요하지 않음\n",
    "\n",
    "- 자료구조의 크기를 동적으로 조정할 수 있어, 메모리의 효율적인 사용 가능\n",
    "\n"
   ]
  },
  {
   "cell_type": "markdown",
   "id": "bbc41dce",
   "metadata": {},
   "source": [
    "---"
   ]
  },
  {
   "cell_type": "markdown",
   "id": "e6831dcc",
   "metadata": {},
   "source": [
    "## 이중 연결 리스트\n",
    "\n",
    "- 양쪽 방향으로 순회할 수 있도록 노드를 연결한 리스트\n",
    "- 두 개의 링크 필드와, 한 개의 데이터 필드로 구성\n"
   ]
  }
 ],
 "metadata": {
  "kernelspec": {
   "display_name": "Python 3 (ipykernel)",
   "language": "python",
   "name": "python3"
  },
  "language_info": {
   "codemirror_mode": {
    "name": "ipython",
    "version": 3
   },
   "file_extension": ".py",
   "mimetype": "text/x-python",
   "name": "python",
   "nbconvert_exporter": "python",
   "pygments_lexer": "ipython3",
   "version": "3.8.16"
  },
  "toc": {
   "base_numbering": 1,
   "nav_menu": {},
   "number_sections": true,
   "sideBar": true,
   "skip_h1_title": false,
   "title_cell": "Table of Contents",
   "title_sidebar": "Contents",
   "toc_cell": false,
   "toc_position": {},
   "toc_section_display": true,
   "toc_window_display": false
  },
  "varInspector": {
   "cols": {
    "lenName": 16,
    "lenType": 16,
    "lenVar": 40
   },
   "kernels_config": {
    "python": {
     "delete_cmd_postfix": "",
     "delete_cmd_prefix": "del ",
     "library": "var_list.py",
     "varRefreshCmd": "print(var_dic_list())"
    },
    "r": {
     "delete_cmd_postfix": ") ",
     "delete_cmd_prefix": "rm(",
     "library": "var_list.r",
     "varRefreshCmd": "cat(var_dic_list()) "
    }
   },
   "types_to_exclude": [
    "module",
    "function",
    "builtin_function_or_method",
    "instance",
    "_Feature"
   ],
   "window_display": false
  }
 },
 "nbformat": 4,
 "nbformat_minor": 5
}
