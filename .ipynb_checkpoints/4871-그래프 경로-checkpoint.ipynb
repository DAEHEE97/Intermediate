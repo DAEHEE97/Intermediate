{
 "cells": [
  {
   "cell_type": "markdown",
   "id": "4a11d86a",
   "metadata": {},
   "source": [
    "# 4871. [파이썬 S/W 문제해결 기본] 4일차 - 그래프 경로\n",
    "\n",
    "- 단 방향 그래프"
   ]
  },
  {
   "cell_type": "markdown",
   "id": "7adb2775",
   "metadata": {},
   "source": [
    "---"
   ]
  },
  {
   "cell_type": "markdown",
   "id": "c7020253",
   "metadata": {},
   "source": [
    "## sol 1 BFS"
   ]
  },
  {
   "cell_type": "code",
   "execution_count": 1,
   "id": "a898b915",
   "metadata": {},
   "outputs": [
    {
     "name": "stdout",
     "output_type": "stream",
     "text": [
      "1\n",
      "6 5\n",
      "1 4\n",
      "1 3\n",
      "2 3\n",
      "2 5\n",
      "4 6\n",
      "1 6\n",
      "#1 1\n"
     ]
    }
   ],
   "source": [
    "from collections import deque\n",
    "\n",
    "def bfs(S, G):\n",
    "    \n",
    "    q = deque()\n",
    "    \n",
    "    q.append(S)\n",
    "    v[S] = 1\n",
    "    \n",
    "    while q:\n",
    "        \n",
    "        c = q.popleft()\n",
    "        \n",
    "        if c == G:\n",
    "            return 1\n",
    "        \n",
    "        \n",
    "        for n in adj[c]:\n",
    "            \n",
    "            if v[n] == 0:\n",
    "                q.append(n)\n",
    "                v[n] = 1\n",
    "                \n",
    "    \n",
    "    return 0\n",
    "\n",
    "T = int(input())\n",
    "\n",
    "for t in range(1, T+1):\n",
    "    \n",
    "    V, E = map(int, input().split())\n",
    "\n",
    "    adj = [ [] for _ in range(V+1) ]\n",
    "\n",
    "    for _ in range(E):\n",
    "\n",
    "        s, e = map(int, input().split())\n",
    "\n",
    "        adj[s].append(e)\n",
    "\n",
    "\n",
    "    # 시작지점, 도착지점 까지 가능? \n",
    "    S, G = map(int, input().split())\n",
    "\n",
    "    v = [0] * (V+1)\n",
    "\n",
    "    ans = bfs(S, G)\n",
    "\n",
    "    print(f'#{t} {ans}')\n"
   ]
  },
  {
   "cell_type": "markdown",
   "id": "3536106a",
   "metadata": {},
   "source": [
    "---"
   ]
  },
  {
   "cell_type": "markdown",
   "id": "115cae44",
   "metadata": {},
   "source": [
    "## sol2 DFS"
   ]
  },
  {
   "cell_type": "code",
   "execution_count": null,
   "id": "363c6e88",
   "metadata": {},
   "outputs": [],
   "source": [
    "def dfs(C):\n",
    "    \n",
    "    # 1-1) 현재 노드 방문 처리\n",
    "    v[C] = 1\n",
    "    \n",
    "    \n",
    "    # 1-3) 재귀 호출을 중지하고 돌아가는 지점\n",
    "    # 즉, 도착지점에 도달했다면, 함수는 1을 반환하여 성공을 나타냅니다. \n",
    "    if C == G:\n",
    "        return 1\n",
    "    \n",
    "    for n in adj[C]:\n",
    "        \n",
    "        if v[n] == 0:\n",
    "            # 1-2) 현재 노드 C에서 성공적으로 도착지점에 도달했다면, 함수는 1을 반환하여 함수 종료\n",
    "            if dfs(n)== 1 :\n",
    "                return 1\n",
    "            \n",
    "    return 0\n",
    "    \n",
    "T = int(input())\n",
    "\n",
    "for t in range(1, T+1):\n",
    "    \n",
    "    V, E = map(int, input().split())\n",
    "\n",
    "    adj = [ [] for _ in range(V+1) ]\n",
    "\n",
    "    for _ in range(E):\n",
    "\n",
    "        s, e = map(int, input().split())\n",
    "\n",
    "        adj[s].append(e)\n",
    "\n",
    "    S, G = map(int, input().split())\n",
    "\n",
    "    v = [0] * (V+1)\n",
    "\n",
    "    \n",
    "    ans = dfs(S)\n",
    "\n",
    "    print(f'#{t} {ans}')\n"
   ]
  }
 ],
 "metadata": {
  "kernelspec": {
   "display_name": "Python 3 (ipykernel)",
   "language": "python",
   "name": "python3"
  },
  "language_info": {
   "codemirror_mode": {
    "name": "ipython",
    "version": 3
   },
   "file_extension": ".py",
   "mimetype": "text/x-python",
   "name": "python",
   "nbconvert_exporter": "python",
   "pygments_lexer": "ipython3",
   "version": "3.8.16"
  },
  "toc": {
   "base_numbering": 1,
   "nav_menu": {},
   "number_sections": true,
   "sideBar": true,
   "skip_h1_title": false,
   "title_cell": "Table of Contents",
   "title_sidebar": "Contents",
   "toc_cell": false,
   "toc_position": {},
   "toc_section_display": true,
   "toc_window_display": false
  },
  "varInspector": {
   "cols": {
    "lenName": 16,
    "lenType": 16,
    "lenVar": 40
   },
   "kernels_config": {
    "python": {
     "delete_cmd_postfix": "",
     "delete_cmd_prefix": "del ",
     "library": "var_list.py",
     "varRefreshCmd": "print(var_dic_list())"
    },
    "r": {
     "delete_cmd_postfix": ") ",
     "delete_cmd_prefix": "rm(",
     "library": "var_list.r",
     "varRefreshCmd": "cat(var_dic_list()) "
    }
   },
   "types_to_exclude": [
    "module",
    "function",
    "builtin_function_or_method",
    "instance",
    "_Feature"
   ],
   "window_display": false
  }
 },
 "nbformat": 4,
 "nbformat_minor": 5
}
