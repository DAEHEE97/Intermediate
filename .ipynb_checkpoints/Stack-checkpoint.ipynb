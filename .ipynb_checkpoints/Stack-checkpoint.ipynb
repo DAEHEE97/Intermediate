{
 "cells": [
  {
   "cell_type": "markdown",
   "id": "33ca7012",
   "metadata": {},
   "source": [
    "# Stack"
   ]
  },
  {
   "cell_type": "markdown",
   "id": "3708d343",
   "metadata": {},
   "source": [
    "---"
   ]
  },
  {
   "cell_type": "markdown",
   "id": "343e7cf2",
   "metadata": {},
   "source": [
    "- 학습 목표\n",
    "\n",
    "1. 스택 자료구조의 개념과 기본 연산을 설명할 수 있다. \n",
    "2. 스택을 응용한 괄호 검사 알고리즘과 함수 호출과 재귀 호출에 대하여 설명할 수 있다.\n",
    "3. 재귀 호출의 중복을 보완하는 메모이제이션에 대하여 설명할 수 있다.\n",
    "4. 동적 계획법 알고리즘의 개념에 대하여 설명할 수 있다.\n",
    "5. 스택을 이용한 깊이 우선 탐색 알고리즘에 대하여 설명할 수 있다.\n",
    "\n",
    "1. 스택을 활용한 계산기 프로그램을 만들 수 있다.\n",
    "2. 백트래킹 기법과 그 활용 예를 설명할 수 있다.\n",
    "3. 분할 정복 알고리즘을 이해하고 활용할 수 있다.\n",
    "4. 퀵 정렬을 이해하고 활용할 수 있다."
   ]
  },
  {
   "cell_type": "markdown",
   "id": "eadadfb6",
   "metadata": {},
   "source": [
    "---"
   ]
  },
  {
   "cell_type": "markdown",
   "id": "dc4fd733",
   "metadata": {},
   "source": [
    "## Stack DS\n",
    "\n",
    "- Last In First Out (LIFO)\n",
    "\n",
    "- 선형 구조, 자료 간의 관계가 1대 1의 관계를 가짐 <> 비선형, 1 대 N, Tree\n",
    "\n",
    "- 리스트를 사용해서 구현\n",
    "    - 리스트의 크기를 변경하는 작업은, 내부적으로 큰 overhead 발생 작업으로 많은 시간 소요\n",
    "        1. 리스트의 크기가 변동되지 않도록 배열 처럼 크기를 미리 정해놓고 사용하는 방법\n",
    "        2. 동적 연결 리스트를 이용하여, 저장소를 동적으로 할당하여 스택 구현\n"
   ]
  },
  {
   "cell_type": "markdown",
   "id": "b2452506",
   "metadata": {},
   "source": [
    "---"
   ]
  },
  {
   "cell_type": "markdown",
   "id": "936badf3",
   "metadata": {},
   "source": [
    "## Stack 응용 (괄호 검사)\n",
    "- 왼쪽 괄호의 개수와 오른쪽 괄호의 개수가 같아야함\n",
    "- 깉은 괄호에서, 왼쪽 괄호는 오른쪽 괄호보다 먼저 나와야 함\n",
    "- 괄호 사이에는 포함 관계만 존재함\n",
    "\n"
   ]
  },
  {
   "cell_type": "markdown",
   "id": "ef94cc2a",
   "metadata": {},
   "source": [
    "## Function call\n",
    "\n"
   ]
  },
  {
   "cell_type": "markdown",
   "id": "6833ed18",
   "metadata": {},
   "source": [
    "---"
   ]
  },
  {
   "cell_type": "markdown",
   "id": "d236479d",
   "metadata": {},
   "source": [
    "## DFS(깊이 우선 탐색)"
   ]
  },
  {
   "cell_type": "markdown",
   "id": "38d5701d",
   "metadata": {},
   "source": [
    "---"
   ]
  },
  {
   "cell_type": "markdown",
   "id": "e652ff39",
   "metadata": {},
   "source": [
    "## 계산기"
   ]
  },
  {
   "cell_type": "markdown",
   "id": "b6e018e5",
   "metadata": {},
   "source": [
    "---"
   ]
  },
  {
   "cell_type": "markdown",
   "id": "a3565949",
   "metadata": {},
   "source": [
    "## 백트래킹"
   ]
  },
  {
   "cell_type": "markdown",
   "id": "0c14310e",
   "metadata": {},
   "source": [
    "---"
   ]
  },
  {
   "cell_type": "markdown",
   "id": "85b690f6",
   "metadata": {},
   "source": [
    "## 분할 정복"
   ]
  },
  {
   "cell_type": "markdown",
   "id": "c3f562b1",
   "metadata": {},
   "source": [
    "---"
   ]
  }
 ],
 "metadata": {
  "kernelspec": {
   "display_name": "Python 3 (ipykernel)",
   "language": "python",
   "name": "python3"
  },
  "language_info": {
   "codemirror_mode": {
    "name": "ipython",
    "version": 3
   },
   "file_extension": ".py",
   "mimetype": "text/x-python",
   "name": "python",
   "nbconvert_exporter": "python",
   "pygments_lexer": "ipython3",
   "version": "3.8.16"
  },
  "toc": {
   "base_numbering": 1,
   "nav_menu": {},
   "number_sections": true,
   "sideBar": true,
   "skip_h1_title": false,
   "title_cell": "Table of Contents",
   "title_sidebar": "Contents",
   "toc_cell": false,
   "toc_position": {},
   "toc_section_display": true,
   "toc_window_display": false
  },
  "varInspector": {
   "cols": {
    "lenName": 16,
    "lenType": 16,
    "lenVar": 40
   },
   "kernels_config": {
    "python": {
     "delete_cmd_postfix": "",
     "delete_cmd_prefix": "del ",
     "library": "var_list.py",
     "varRefreshCmd": "print(var_dic_list())"
    },
    "r": {
     "delete_cmd_postfix": ") ",
     "delete_cmd_prefix": "rm(",
     "library": "var_list.r",
     "varRefreshCmd": "cat(var_dic_list()) "
    }
   },
   "types_to_exclude": [
    "module",
    "function",
    "builtin_function_or_method",
    "instance",
    "_Feature"
   ],
   "window_display": false
  }
 },
 "nbformat": 4,
 "nbformat_minor": 5
}
