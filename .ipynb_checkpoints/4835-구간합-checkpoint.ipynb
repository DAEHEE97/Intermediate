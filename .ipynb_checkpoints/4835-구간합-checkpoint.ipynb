{
 "cells": [
  {
   "cell_type": "markdown",
   "id": "60aa6d91",
   "metadata": {},
   "source": [
    "# 4835. [파이썬 S/W 문제해결 기본] 1일차 - 구간합"
   ]
  },
  {
   "cell_type": "markdown",
   "id": "9b6912f3",
   "metadata": {},
   "source": [
    "---"
   ]
  },
  {
   "cell_type": "markdown",
   "id": "2247f170",
   "metadata": {},
   "source": [
    "- sort 처리 x"
   ]
  },
  {
   "cell_type": "code",
   "execution_count": 1,
   "id": "5de575be",
   "metadata": {},
   "outputs": [
    {
     "name": "stdout",
     "output_type": "stream",
     "text": [
      "3\n",
      "10 3\n",
      "1 2 3 4 5 6 7 8 9 10\n",
      "1 21\n",
      "10 5\n",
      "6262 6004 1801 7660 7919 1280 525 9798 5134 1821\n",
      "2 11088\n",
      "20 19\n",
      "3266 9419 3087 9001 9321 1341 7379 6236 5795 8910 2990 2152 2249 4059 1394 6871 4911 3648 1969 2176\t\n",
      "3 1090\n"
     ]
    }
   ],
   "source": [
    "T = int(input())\n",
    "\n",
    "\n",
    "for t in range(1, T+1):\n",
    "    \n",
    "    N, M = map(int, input().split())\n",
    "    \n",
    "    lst = list(map(int, input().split()))\n",
    "    \n",
    "    s_lst = []\n",
    "    \n",
    "    for si in range(0, N - M + 1):\n",
    "        \n",
    "        s_lst.append(sum(lst[si:si+M]))\n",
    "    \n",
    "    print(f'#{t} {max(s_lst) - min(s_lst)}')\n",
    "        "
   ]
  },
  {
   "cell_type": "markdown",
   "id": "434ba7ef",
   "metadata": {},
   "source": [
    "---"
   ]
  },
  {
   "cell_type": "code",
   "execution_count": null,
   "id": "cca25177",
   "metadata": {},
   "outputs": [],
   "source": [
    "max_sum = 0\n",
    "\n",
    "min_sum = float('inf')\n",
    "\n",
    "for si in range(0, N - M + 1):\n",
    "    \n",
    "    neighbor_sum = sum(arr[si:si+M])\n",
    "    \n",
    "    max_sum = max(max_sum, neighbor_sum)\n",
    "    \n",
    "    min_sum = min(min_sum, neighbor_sum)"
   ]
  }
 ],
 "metadata": {
  "kernelspec": {
   "display_name": "Python 3 (ipykernel)",
   "language": "python",
   "name": "python3"
  },
  "language_info": {
   "codemirror_mode": {
    "name": "ipython",
    "version": 3
   },
   "file_extension": ".py",
   "mimetype": "text/x-python",
   "name": "python",
   "nbconvert_exporter": "python",
   "pygments_lexer": "ipython3",
   "version": "3.8.16"
  },
  "toc": {
   "base_numbering": 1,
   "nav_menu": {},
   "number_sections": true,
   "sideBar": true,
   "skip_h1_title": false,
   "title_cell": "Table of Contents",
   "title_sidebar": "Contents",
   "toc_cell": false,
   "toc_position": {},
   "toc_section_display": true,
   "toc_window_display": false
  },
  "varInspector": {
   "cols": {
    "lenName": 16,
    "lenType": 16,
    "lenVar": 40
   },
   "kernels_config": {
    "python": {
     "delete_cmd_postfix": "",
     "delete_cmd_prefix": "del ",
     "library": "var_list.py",
     "varRefreshCmd": "print(var_dic_list())"
    },
    "r": {
     "delete_cmd_postfix": ") ",
     "delete_cmd_prefix": "rm(",
     "library": "var_list.r",
     "varRefreshCmd": "cat(var_dic_list()) "
    }
   },
   "types_to_exclude": [
    "module",
    "function",
    "builtin_function_or_method",
    "instance",
    "_Feature"
   ],
   "window_display": false
  }
 },
 "nbformat": 4,
 "nbformat_minor": 5
}
