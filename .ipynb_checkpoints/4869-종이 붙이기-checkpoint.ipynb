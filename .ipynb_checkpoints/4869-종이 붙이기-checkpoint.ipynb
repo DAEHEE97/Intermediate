{
 "cells": [
  {
   "cell_type": "markdown",
   "id": "f5c54fc9",
   "metadata": {},
   "source": [
    "#  [4869. [파이썬 S/W 문제해결 기본] 4일차 - 종이붙이기](https://swexpertacademy.com/main/learn/course/subjectDetail.do?courseId=AVuPDN86AAXw5UW6&subjectId=AWOVHzyqqe8DFAWg#)"
   ]
  },
  {
   "cell_type": "markdown",
   "id": "9aa8d3c5",
   "metadata": {},
   "source": [
    "- 10의 배수인 N이 주어졌을 때, 종이를 붙이는 모든 경우를 찾으려면, 테이프로 만든 표시한 영역을 몇 개나 만들어야 되는지 계산"
   ]
  },
  {
   "cell_type": "markdown",
   "id": "fce63481",
   "metadata": {},
   "source": [
    "---"
   ]
  },
  {
   "cell_type": "markdown",
   "id": "fe674abf",
   "metadata": {},
   "source": [
    "## sol 1 DP\n",
    "\n",
    "- dp[0] 도 처리해서, dp[2] 처리 하도록\n",
    "- N = 1 이 입력 되어도 range() 처리"
   ]
  },
  {
   "cell_type": "code",
   "execution_count": 7,
   "id": "0a2ed0ea",
   "metadata": {},
   "outputs": [
    {
     "name": "stdout",
     "output_type": "stream",
     "text": [
      "1\n",
      "10\n",
      "#1 1\n"
     ]
    }
   ],
   "source": [
    "T = int(input())\n",
    "\n",
    "for t in range(1, T+1):\n",
    "    \n",
    "    # 가로 길이 \n",
    "    N = int(input()) // 10\n",
    "\n",
    "    # 1-1) dp 테이블 정의, dp[i]: 2*i 길이의 직사각형을 만드는 방법의 수\n",
    "    dp = [0] * (N+1)\n",
    "\n",
    "    # 1-2) dp[]의 초기값 설정\n",
    "    # dp[0] = 1로 해줘야 dp[2] 성립\n",
    "    # \n",
    "    dp[0] = 1\n",
    "    dp[1] = 1\n",
    "\n",
    "\n",
    "    # 2) 규칙성 > 테이블 처리\n",
    "\n",
    "    for i in range(2, N+1):\n",
    "        dp[i] = dp[i-1] + dp[i-2]*2\n",
    "\n",
    "    ans = dp[N]\n",
    "\n",
    "    print(f'#{t} {ans}')"
   ]
  },
  {
   "cell_type": "markdown",
   "id": "e7fbe2a9",
   "metadata": {},
   "source": [
    "---"
   ]
  },
  {
   "cell_type": "markdown",
   "id": "90fa836e",
   "metadata": {},
   "source": [
    "## error \n",
    "- N = 10, N = 20 인 경우"
   ]
  },
  {
   "cell_type": "code",
   "execution_count": 6,
   "id": "e5dd92c3",
   "metadata": {},
   "outputs": [
    {
     "name": "stdout",
     "output_type": "stream",
     "text": [
      "1\n",
      "10\n"
     ]
    },
    {
     "ename": "IndexError",
     "evalue": "list assignment index out of range",
     "output_type": "error",
     "traceback": [
      "\u001b[0;31m---------------------------------------------------------------------------\u001b[0m",
      "\u001b[0;31mIndexError\u001b[0m                                Traceback (most recent call last)",
      "Cell \u001b[0;32mIn[6], line 14\u001b[0m\n\u001b[1;32m     12\u001b[0m \u001b[38;5;66;03m# 1-2) dp[]의 초기값 설정\u001b[39;00m\n\u001b[1;32m     13\u001b[0m dp[\u001b[38;5;241m1\u001b[39m] \u001b[38;5;241m=\u001b[39m \u001b[38;5;241m1\u001b[39m\n\u001b[0;32m---> 14\u001b[0m \u001b[43mdp\u001b[49m\u001b[43m[\u001b[49m\u001b[38;5;241;43m2\u001b[39;49m\u001b[43m]\u001b[49m \u001b[38;5;241m=\u001b[39m \u001b[38;5;241m3\u001b[39m\n\u001b[1;32m     17\u001b[0m \u001b[38;5;66;03m# 2) 규칙성 > 테이블 처리\u001b[39;00m\n\u001b[1;32m     19\u001b[0m \u001b[38;5;28;01mfor\u001b[39;00m i \u001b[38;5;129;01min\u001b[39;00m \u001b[38;5;28mrange\u001b[39m(\u001b[38;5;241m3\u001b[39m, N\u001b[38;5;241m+\u001b[39m\u001b[38;5;241m1\u001b[39m):\n",
      "\u001b[0;31mIndexError\u001b[0m: list assignment index out of range"
     ]
    }
   ],
   "source": [
    "T = int(input())\n",
    "\n",
    "for t in range(1, T+1):\n",
    "    \n",
    "    # 가로 길이 \n",
    "    N = int(input()) // 10\n",
    "\n",
    "    # 1-1) dp 테이블 정의, dp[i]: 2*i 길이의 직사각형을 만드는 방법의 수\n",
    "    dp = [0] * (N+1)\n",
    "\n",
    "\n",
    "    # 1-2) dp[]의 초기값 설정\n",
    "    dp[1] = 1\n",
    "    dp[2] = 3\n",
    "\n",
    "\n",
    "    # 2) 규칙성 > 테이블 처리\n",
    "    # N = 1 인경우, error\n",
    "\n",
    "    for i in range(3, N+1):\n",
    "        dp[i] = dp[i-1] + dp[i-2]*2\n",
    "\n",
    "    ans = dp[N]\n",
    "\n",
    "    print(f'#{t} {ans}')"
   ]
  }
 ],
 "metadata": {
  "kernelspec": {
   "display_name": "Python 3 (ipykernel)",
   "language": "python",
   "name": "python3"
  },
  "language_info": {
   "codemirror_mode": {
    "name": "ipython",
    "version": 3
   },
   "file_extension": ".py",
   "mimetype": "text/x-python",
   "name": "python",
   "nbconvert_exporter": "python",
   "pygments_lexer": "ipython3",
   "version": "3.8.16"
  },
  "toc": {
   "base_numbering": 1,
   "nav_menu": {},
   "number_sections": true,
   "sideBar": true,
   "skip_h1_title": false,
   "title_cell": "Table of Contents",
   "title_sidebar": "Contents",
   "toc_cell": false,
   "toc_position": {},
   "toc_section_display": true,
   "toc_window_display": false
  },
  "varInspector": {
   "cols": {
    "lenName": 16,
    "lenType": 16,
    "lenVar": 40
   },
   "kernels_config": {
    "python": {
     "delete_cmd_postfix": "",
     "delete_cmd_prefix": "del ",
     "library": "var_list.py",
     "varRefreshCmd": "print(var_dic_list())"
    },
    "r": {
     "delete_cmd_postfix": ") ",
     "delete_cmd_prefix": "rm(",
     "library": "var_list.r",
     "varRefreshCmd": "cat(var_dic_list()) "
    }
   },
   "types_to_exclude": [
    "module",
    "function",
    "builtin_function_or_method",
    "instance",
    "_Feature"
   ],
   "window_display": false
  }
 },
 "nbformat": 4,
 "nbformat_minor": 5
}
