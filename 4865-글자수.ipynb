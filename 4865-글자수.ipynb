{
 "cells": [
  {
   "cell_type": "markdown",
   "id": "2987bef0",
   "metadata": {},
   "source": [
    "# 4865. [파이썬 S/W 문제해결 기본] 3일차 - 글자수\n"
   ]
  },
  {
   "cell_type": "markdown",
   "id": "fe5f7d50",
   "metadata": {},
   "source": [
    "---"
   ]
  },
  {
   "cell_type": "markdown",
   "id": "9c379470",
   "metadata": {},
   "source": [
    "- 문자열 str1에 포함된 글자들이 str2에 몇 개씩 들어있는지 찾고, 그중 가장 많은 글자의 개수를 출력하는 프로그램\n",
    "- str1 으로 dic 생성, str2로 cnt "
   ]
  },
  {
   "cell_type": "markdown",
   "id": "df0ec219",
   "metadata": {},
   "source": [
    "---"
   ]
  },
  {
   "cell_type": "code",
   "execution_count": 8,
   "id": "0e7e1442",
   "metadata": {},
   "outputs": [
    {
     "name": "stdout",
     "output_type": "stream",
     "text": [
      "3\n",
      "XYPV\n",
      "EOGGXYPVSY\n",
      "#1 2\n",
      "STJJ\n",
      "HOFSTJPVPP\n",
      "#2 1\n",
      "ZYJZXZTIBSDG\n",
      "TTXGZYJZXZTIBSDGWQLW\n",
      "#3 3\n"
     ]
    }
   ],
   "source": [
    "T = int(input())\n",
    "\n",
    "for t in range(1, T+1):\n",
    "    \n",
    "    \n",
    "    # 여기 있는 글자들로 처리 \n",
    "    str1 = list(input())\n",
    "    str2 = list(input())\n",
    "    \n",
    "    \n",
    "    dic = dict()\n",
    "    \n",
    "    for c in str1:\n",
    "        if c not in dic:\n",
    "            dic[c] = 0\n",
    "            \n",
    "            \n",
    "    for c in str2:\n",
    "        if c in dic:\n",
    "            dic[c] += 1\n",
    "            \n",
    "\n",
    "    lst = [ v for k, v in dic.items() if v == max(dic.values()) ]\n",
    "    \n",
    "    print(f'#{t} {lst[-1]}')\n",
    "    \n"
   ]
  }
 ],
 "metadata": {
  "kernelspec": {
   "display_name": "Python 3 (ipykernel)",
   "language": "python",
   "name": "python3"
  },
  "language_info": {
   "codemirror_mode": {
    "name": "ipython",
    "version": 3
   },
   "file_extension": ".py",
   "mimetype": "text/x-python",
   "name": "python",
   "nbconvert_exporter": "python",
   "pygments_lexer": "ipython3",
   "version": "3.8.16"
  },
  "toc": {
   "base_numbering": 1,
   "nav_menu": {},
   "number_sections": true,
   "sideBar": true,
   "skip_h1_title": false,
   "title_cell": "Table of Contents",
   "title_sidebar": "Contents",
   "toc_cell": false,
   "toc_position": {},
   "toc_section_display": true,
   "toc_window_display": false
  },
  "varInspector": {
   "cols": {
    "lenName": 16,
    "lenType": 16,
    "lenVar": 40
   },
   "kernels_config": {
    "python": {
     "delete_cmd_postfix": "",
     "delete_cmd_prefix": "del ",
     "library": "var_list.py",
     "varRefreshCmd": "print(var_dic_list())"
    },
    "r": {
     "delete_cmd_postfix": ") ",
     "delete_cmd_prefix": "rm(",
     "library": "var_list.r",
     "varRefreshCmd": "cat(var_dic_list()) "
    }
   },
   "types_to_exclude": [
    "module",
    "function",
    "builtin_function_or_method",
    "instance",
    "_Feature"
   ],
   "window_display": false
  }
 },
 "nbformat": 4,
 "nbformat_minor": 5
}
