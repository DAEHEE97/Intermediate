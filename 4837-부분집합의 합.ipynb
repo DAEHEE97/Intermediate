{
 "cells": [
  {
   "cell_type": "markdown",
   "id": "806d89ce",
   "metadata": {},
   "source": [
    "# [4837. [파이썬 S/W 문제해결 기본] 2일차 - 부분집합의 합](https://swexpertacademy.com/main/learn/course/subjectDetail.do?courseId=AVuPDN86AAXw5UW6&subjectId=AWOVF-WqqecDFAWg#)"
   ]
  },
  {
   "cell_type": "markdown",
   "id": "c03d7ba9",
   "metadata": {},
   "source": [
    "---"
   ]
  },
  {
   "cell_type": "markdown",
   "id": "8372bd38",
   "metadata": {},
   "source": [
    "## sol 1 이진 트리"
   ]
  },
  {
   "cell_type": "code",
   "execution_count": null,
   "id": "df02408e",
   "metadata": {},
   "outputs": [],
   "source": [
    "# n은 lst의 idx\n",
    "\n",
    "def dfs(n, tlst):\n",
    "    \n",
    "    global ans\n",
    "\n",
    "    if sum(tlst) > K:\n",
    "        return\n",
    "    \n",
    "    \n",
    "    \n",
    "    if n == 12:\n",
    "        \n",
    "        if len(tlst) == N and sum(tlst) == K:\n",
    "            ans += 1\n",
    "        \n",
    "        return\n",
    "    \n",
    "    \n",
    "    \n",
    "    dfs(n+1, tlst + [lst[n]])\n",
    "    \n",
    "    dfs(n+1, tlst)"
   ]
  },
  {
   "cell_type": "code",
   "execution_count": null,
   "id": "2feddfbb",
   "metadata": {},
   "outputs": [],
   "source": [
    "T = int(input())\n",
    "\n",
    "for t in range(1, T+1):\n",
    "    \n",
    "    \n",
    "    # 1부터 12까지의 숫자를 원소로 가진 집합 A\n",
    "    lst = list(range(1, 12+1))\n",
    "    \n",
    "    # 집합 A의 부분 집합 중 N개의 원소를 갖고 있고,\n",
    "    # 원소의 합이 K인 부분집합의 개수\n",
    "    N, K = map(int, input().split())\n",
    "    \n",
    "    ans = 0\n",
    "    \n",
    "    dfs(0, [])\n",
    "    \n",
    "    print(f'#{t} {ans}')"
   ]
  },
  {
   "cell_type": "markdown",
   "id": "def6cc5a",
   "metadata": {},
   "source": [
    "---"
   ]
  },
  {
   "cell_type": "markdown",
   "id": "ea379383",
   "metadata": {},
   "source": [
    "## sol 2 열 트리"
   ]
  },
  {
   "cell_type": "code",
   "execution_count": null,
   "id": "e63882c9",
   "metadata": {},
   "outputs": [],
   "source": [
    "T = int(input())\n",
    "\n",
    "for t in range(1, T+1):\n",
    "    \n",
    "    lst = list(range(1, 12+1))\n",
    "\n",
    "    N, K = map(int, input().split())\n",
    "    \n",
    "    ans = 0\n",
    "    \n",
    "    v = [0] * 12\n",
    "    \n",
    "    dfs(0, [])\n",
    "    \n",
    "    print(f'#{t} {ans}')"
   ]
  },
  {
   "cell_type": "code",
   "execution_count": null,
   "id": "3586ed88",
   "metadata": {},
   "outputs": [],
   "source": [
    "def dfs(n, tlst, start):\n",
    "    \n",
    "    \n",
    "    global ans\n",
    "    \n",
    "    # 열 트리, n은 tlst의 개수, 길이\n",
    "    if n == N:\n",
    "        \n",
    "        if sum(tlst) == K:\n",
    "            ans += 1\n",
    "                \n",
    "        return \n",
    "    \n",
    "    # 서로 다른 원소 를 골라야함. # start 처리\n",
    "    for j in range(start, 12):\n",
    "        \n",
    "        dfs(n+1, tlst + [lst[j]], j+1)\n",
    "\n",
    "T = int(input())\n",
    "\n",
    "for t in range(1, T+1):\n",
    "    \n",
    "    N, K = map(int, input().split())\n",
    "    \n",
    "    lst = list(range(1, 12+1))\n",
    "    \n",
    "    ans = 0\n",
    "    \n",
    "    dfs(0, [], 0)\n",
    "    \n",
    "    print(f'#{t} {ans}')\n",
    "    "
   ]
  },
  {
   "cell_type": "markdown",
   "id": "5cd25fd2",
   "metadata": {},
   "source": [
    "---"
   ]
  },
  {
   "cell_type": "markdown",
   "id": "2643893c",
   "metadata": {},
   "source": [
    "---"
   ]
  },
  {
   "cell_type": "markdown",
   "id": "50428082",
   "metadata": {},
   "source": [
    "### error 중복 x\n",
    "\n",
    "- 1,2,3\n",
    "- 2,1,3 개수 카운트"
   ]
  },
  {
   "cell_type": "code",
   "execution_count": null,
   "id": "b9209f1f",
   "metadata": {},
   "outputs": [],
   "source": [
    "# 서로 다른 것들의 조합\n",
    "# n은 lst의 개수\n",
    "\n",
    "def dfs(n, tlst):\n",
    "    \n",
    "    global ans\n",
    "\n",
    "    if sum(tlst) > K:\n",
    "        return\n",
    "    \n",
    "    \n",
    "    if n == N:\n",
    "        \n",
    "        if sum(tlst) == K:\n",
    "            ans += 1\n",
    "        \n",
    "        return\n",
    "    \n",
    "    \n",
    "    for j in range(0, len(lst)):\n",
    "        \n",
    "        if v[j] == 0:\n",
    "            \n",
    "            v[j] = 1\n",
    "            \n",
    "            dfs(n+1, tlst+[lst[j]])\n",
    "    \n",
    "            v[j] = 0 "
   ]
  }
 ],
 "metadata": {
  "kernelspec": {
   "display_name": "Python 3 (ipykernel)",
   "language": "python",
   "name": "python3"
  },
  "language_info": {
   "codemirror_mode": {
    "name": "ipython",
    "version": 3
   },
   "file_extension": ".py",
   "mimetype": "text/x-python",
   "name": "python",
   "nbconvert_exporter": "python",
   "pygments_lexer": "ipython3",
   "version": "3.8.16"
  },
  "toc": {
   "base_numbering": 1,
   "nav_menu": {},
   "number_sections": true,
   "sideBar": true,
   "skip_h1_title": false,
   "title_cell": "Table of Contents",
   "title_sidebar": "Contents",
   "toc_cell": false,
   "toc_position": {},
   "toc_section_display": true,
   "toc_window_display": false
  },
  "varInspector": {
   "cols": {
    "lenName": 16,
    "lenType": 16,
    "lenVar": 40
   },
   "kernels_config": {
    "python": {
     "delete_cmd_postfix": "",
     "delete_cmd_prefix": "del ",
     "library": "var_list.py",
     "varRefreshCmd": "print(var_dic_list())"
    },
    "r": {
     "delete_cmd_postfix": ") ",
     "delete_cmd_prefix": "rm(",
     "library": "var_list.r",
     "varRefreshCmd": "cat(var_dic_list()) "
    }
   },
   "types_to_exclude": [
    "module",
    "function",
    "builtin_function_or_method",
    "instance",
    "_Feature"
   ],
   "window_display": false
  }
 },
 "nbformat": 4,
 "nbformat_minor": 5
}
