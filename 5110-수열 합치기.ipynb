{
 "cells": [
  {
   "cell_type": "markdown",
   "id": "bda5e408",
   "metadata": {},
   "source": [
    "# 5110. [파이썬 S/W 문제해결 기본] 7일차 - 수열 합치기"
   ]
  },
  {
   "cell_type": "markdown",
   "id": "b312f4fb",
   "metadata": {},
   "source": [
    "---"
   ]
  },
  {
   "cell_type": "markdown",
   "id": "48fc75bf",
   "metadata": {},
   "source": [
    "# sol 1 리스트내 리스트 삽입\n",
    "\n",
    "- `flst[i:i] = tlst`\n",
    "\n",
    "- `flst = flst[:i] + tlst[:] + flst[i:`] 1차원, 시간 제한 초과\n"
   ]
  },
  {
   "cell_type": "code",
   "execution_count": 1,
   "id": "f8b9f22d",
   "metadata": {},
   "outputs": [
    {
     "name": "stdout",
     "output_type": "stream",
     "text": [
      "1\n",
      "4 4\n",
      "2 3 4 5\n",
      "4 8 7 6\n",
      "9 10 15 16\n",
      "1 2 6 5\n",
      "#1 16 15 10 9 5 6 7 8 4 4\n"
     ]
    }
   ],
   "source": [
    "T = int(input())\n",
    "\n",
    "for t in range(1, T+1):\n",
    "    \n",
    "    N, M = map(int, input().split())\n",
    "\n",
    "    flst = list(map(int, input().split()))\n",
    "    \n",
    "    for _ in range(M-1):\n",
    "        \n",
    "        tlst = list(map(int, input().split()))\n",
    "        \n",
    "        v = tlst[0]\n",
    "\n",
    "        flag = True\n",
    "        \n",
    "        for i in range(len(flst)):\n",
    "            \n",
    "            if flst[i] > v:\n",
    "                flag = False\n",
    "                # 시간 초과 해결\n",
    "                # flst[i] 번째 idx에 tlst 삽입 \n",
    "                flst[i:i] = tlst\n",
    "                \n",
    "                break\n",
    "                \n",
    "            else:\n",
    "                flag = True\n",
    "                continue\n",
    "            \n",
    "        if flag:\n",
    "            flst = flst + tlst\n",
    "                \n",
    "\n",
    "\n",
    "    ans = flst[::-1][:10]\n",
    "    \n",
    "    print(f'#{t}', end = ' ')\n",
    "    print(*ans)\n",
    "\n",
    "                \n",
    "            \n",
    "\n",
    "        \n",
    "        "
   ]
  },
  {
   "cell_type": "markdown",
   "id": "80070775",
   "metadata": {},
   "source": [
    "---"
   ]
  },
  {
   "cell_type": "markdown",
   "id": "009d630d",
   "metadata": {},
   "source": [
    "## error 제한 시간 초과\n",
    "- flst = [flst[:i]] + [tlst[:]] + [flst[i:]] 2차원"
   ]
  },
  {
   "cell_type": "code",
   "execution_count": null,
   "id": "c0ef9038",
   "metadata": {},
   "outputs": [],
   "source": [
    "T = int(input())\n",
    "\n",
    "for t in range(1, T+1):\n",
    "    \n",
    "    N, M = map(int, input().split())\n",
    "\n",
    "    flst = list(map(int, input().split()))\n",
    "    \n",
    "    for _ in range(M-1):\n",
    "        \n",
    "        tlst = list(map(int, input().split()))\n",
    "        \n",
    "        v = tlst[0]\n",
    "\n",
    "        flag = True\n",
    "        \n",
    "        for i in range(len(flst)):\n",
    "            \n",
    "            if flst[i] > v:\n",
    "                flag = False\n",
    "                # 시간 초과 부분 \n",
    "                flst = flst[:i] + tlst[:] + flst[i:]\n",
    "                \n",
    "                break\n",
    "                \n",
    "            else:\n",
    "                flag = True\n",
    "                continue\n",
    "            \n",
    "        if flag:\n",
    "            flst = flst[:] + tlst[:]\n",
    "                \n",
    "    \n",
    "    ans = flst[::-1][:10]\n",
    "    \n",
    "    print(f'#{t}', end = ' ')\n",
    "    print(*ans)\n",
    "\n",
    "                \n",
    "            \n",
    "\n",
    "        \n",
    "        "
   ]
  }
 ],
 "metadata": {
  "kernelspec": {
   "display_name": "Python 3 (ipykernel)",
   "language": "python",
   "name": "python3"
  },
  "language_info": {
   "codemirror_mode": {
    "name": "ipython",
    "version": 3
   },
   "file_extension": ".py",
   "mimetype": "text/x-python",
   "name": "python",
   "nbconvert_exporter": "python",
   "pygments_lexer": "ipython3",
   "version": "3.8.16"
  },
  "toc": {
   "base_numbering": 1,
   "nav_menu": {},
   "number_sections": true,
   "sideBar": true,
   "skip_h1_title": false,
   "title_cell": "Table of Contents",
   "title_sidebar": "Contents",
   "toc_cell": false,
   "toc_position": {},
   "toc_section_display": true,
   "toc_window_display": false
  },
  "varInspector": {
   "cols": {
    "lenName": 16,
    "lenType": 16,
    "lenVar": 40
   },
   "kernels_config": {
    "python": {
     "delete_cmd_postfix": "",
     "delete_cmd_prefix": "del ",
     "library": "var_list.py",
     "varRefreshCmd": "print(var_dic_list())"
    },
    "r": {
     "delete_cmd_postfix": ") ",
     "delete_cmd_prefix": "rm(",
     "library": "var_list.r",
     "varRefreshCmd": "cat(var_dic_list()) "
    }
   },
   "types_to_exclude": [
    "module",
    "function",
    "builtin_function_or_method",
    "instance",
    "_Feature"
   ],
   "window_display": false
  }
 },
 "nbformat": 4,
 "nbformat_minor": 5
}
