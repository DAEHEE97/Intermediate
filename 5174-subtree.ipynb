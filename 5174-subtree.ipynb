{
 "cells": [
  {
   "cell_type": "markdown",
   "id": "35d61dec",
   "metadata": {},
   "source": [
    "#  5174. [파이썬 S/W 문제해결 기본] 8일차 - subtree"
   ]
  },
  {
   "cell_type": "markdown",
   "id": "03defe6a",
   "metadata": {},
   "source": [
    "---"
   ]
  },
  {
   "cell_type": "code",
   "execution_count": 1,
   "id": "c9d22cc3",
   "metadata": {},
   "outputs": [],
   "source": [
    "def sub(root):\n",
    "    \n",
    "    global cnt\n",
    "    cnt += 1\n",
    "    \n",
    "    for i in tree[int(root)]:\n",
    "        \n",
    "        if i:\n",
    "            sub(i)\n",
    "            \n",
    "    \n",
    "    return cnt"
   ]
  },
  {
   "cell_type": "code",
   "execution_count": 2,
   "id": "0826c35f",
   "metadata": {},
   "outputs": [
    {
     "name": "stdout",
     "output_type": "stream",
     "text": [
      "1\n",
      "5 1\n",
      "2 1 2 5 1 6 5 3 6 4\n",
      "#1 3\n"
     ]
    }
   ],
   "source": [
    "T = int(input())\n",
    "\n",
    "for t in range(1, T+1):\n",
    "    \n",
    "    E, N= map(int, input().split())\n",
    "    \n",
    "    nodes = list(input().split())\n",
    "    \n",
    "    tree = [ [] for _ in range(E+2) ]\n",
    "    \n",
    "    for i in range(0, len(nodes), 2):\n",
    "        \n",
    "        tree[int(nodes[i])].append(nodes[i+1])\n",
    "    \n",
    "    cnt = 0\n",
    "    \n",
    "    ans = sub(N)\n",
    "    \n",
    "    print(f'#{t} {ans}')"
   ]
  }
 ],
 "metadata": {
  "kernelspec": {
   "display_name": "Python 3 (ipykernel)",
   "language": "python",
   "name": "python3"
  },
  "language_info": {
   "codemirror_mode": {
    "name": "ipython",
    "version": 3
   },
   "file_extension": ".py",
   "mimetype": "text/x-python",
   "name": "python",
   "nbconvert_exporter": "python",
   "pygments_lexer": "ipython3",
   "version": "3.8.16"
  },
  "toc": {
   "base_numbering": 1,
   "nav_menu": {},
   "number_sections": true,
   "sideBar": true,
   "skip_h1_title": false,
   "title_cell": "Table of Contents",
   "title_sidebar": "Contents",
   "toc_cell": false,
   "toc_position": {},
   "toc_section_display": true,
   "toc_window_display": false
  },
  "varInspector": {
   "cols": {
    "lenName": 16,
    "lenType": 16,
    "lenVar": 40
   },
   "kernels_config": {
    "python": {
     "delete_cmd_postfix": "",
     "delete_cmd_prefix": "del ",
     "library": "var_list.py",
     "varRefreshCmd": "print(var_dic_list())"
    },
    "r": {
     "delete_cmd_postfix": ") ",
     "delete_cmd_prefix": "rm(",
     "library": "var_list.r",
     "varRefreshCmd": "cat(var_dic_list()) "
    }
   },
   "types_to_exclude": [
    "module",
    "function",
    "builtin_function_or_method",
    "instance",
    "_Feature"
   ],
   "window_display": false
  }
 },
 "nbformat": 4,
 "nbformat_minor": 5
}
