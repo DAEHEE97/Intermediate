{
 "cells": [
  {
   "cell_type": "markdown",
   "id": "48b6dbcd",
   "metadata": {},
   "source": [
    "# 5097. [파이썬 S/W 문제해결 기본] 6일차 - 회전"
   ]
  },
  {
   "cell_type": "markdown",
   "id": "2330e366",
   "metadata": {},
   "source": [
    "---"
   ]
  },
  {
   "cell_type": "markdown",
   "id": "812065c9",
   "metadata": {},
   "source": [
    "## sol 1 deque"
   ]
  },
  {
   "cell_type": "code",
   "execution_count": 1,
   "id": "8d18520c",
   "metadata": {},
   "outputs": [
    {
     "name": "stdout",
     "output_type": "stream",
     "text": [
      "1\n",
      "3 10\n",
      "5527 731 31274\n",
      "#1 731\n"
     ]
    }
   ],
   "source": [
    "from collections import deque\n",
    "\n",
    "T = int(input())\n",
    "\n",
    "for t in range(1, T+1):\n",
    "    \n",
    "    N, M = map(int, input().split())\n",
    "    \n",
    "    lst = deque(map(int, input().split()))\n",
    "    \n",
    "    for _ in range(M):\n",
    "        \n",
    "        lst.append(lst.popleft())\n",
    "    \n",
    "    print('#{0} {1}'.format(t, lst[0]))"
   ]
  },
  {
   "cell_type": "markdown",
   "id": "0e7eb218",
   "metadata": {},
   "source": [
    "---"
   ]
  },
  {
   "cell_type": "markdown",
   "id": "1aec46ab",
   "metadata": {},
   "source": [
    "## sol 2 lst.pop(0)"
   ]
  },
  {
   "cell_type": "code",
   "execution_count": null,
   "id": "d4bf4cf2",
   "metadata": {},
   "outputs": [],
   "source": [
    "T = int(input())\n",
    "\n",
    "for t in range(1, T+1):\n",
    "    \n",
    "    N, M = map(int, input().split())\n",
    "    \n",
    "    lst = list(map(int, input().split()))\n",
    "    \n",
    "    \n",
    "    for _ in range(M):\n",
    "        \n",
    "        lst.append(lst.pop(0))\n",
    "    \n",
    "    print('#{0} {1}'.format(t, lst[0]))\n",
    "        "
   ]
  }
 ],
 "metadata": {
  "kernelspec": {
   "display_name": "Python 3 (ipykernel)",
   "language": "python",
   "name": "python3"
  },
  "language_info": {
   "codemirror_mode": {
    "name": "ipython",
    "version": 3
   },
   "file_extension": ".py",
   "mimetype": "text/x-python",
   "name": "python",
   "nbconvert_exporter": "python",
   "pygments_lexer": "ipython3",
   "version": "3.8.16"
  },
  "toc": {
   "base_numbering": 1,
   "nav_menu": {},
   "number_sections": true,
   "sideBar": true,
   "skip_h1_title": false,
   "title_cell": "Table of Contents",
   "title_sidebar": "Contents",
   "toc_cell": false,
   "toc_position": {},
   "toc_section_display": true,
   "toc_window_display": false
  },
  "varInspector": {
   "cols": {
    "lenName": 16,
    "lenType": 16,
    "lenVar": 40
   },
   "kernels_config": {
    "python": {
     "delete_cmd_postfix": "",
     "delete_cmd_prefix": "del ",
     "library": "var_list.py",
     "varRefreshCmd": "print(var_dic_list())"
    },
    "r": {
     "delete_cmd_postfix": ") ",
     "delete_cmd_prefix": "rm(",
     "library": "var_list.r",
     "varRefreshCmd": "cat(var_dic_list()) "
    }
   },
   "types_to_exclude": [
    "module",
    "function",
    "builtin_function_or_method",
    "instance",
    "_Feature"
   ],
   "window_display": false
  }
 },
 "nbformat": 4,
 "nbformat_minor": 5
}
