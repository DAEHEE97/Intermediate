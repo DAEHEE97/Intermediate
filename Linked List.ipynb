{
 "cells": [
  {
   "cell_type": "markdown",
   "id": "774d711f",
   "metadata": {},
   "source": [
    "# Linked List"
   ]
  },
  {
   "cell_type": "markdown",
   "id": "1c22e983",
   "metadata": {},
   "source": [
    "---"
   ]
  },
  {
   "cell_type": "markdown",
   "id": "3945d817",
   "metadata": {},
   "source": [
    "-학습 목표\n",
    "\n",
    "1. 연결 리스트 자료구조의 개념과 기본 연산을 설명할 수 있다.\n",
    "2. 순차 리스트의 기본 구조와 연산을 설명할 수 있다.\n",
    "3. 연결 리스트의 기본 구조와 연산을 설명할 수 있다.\n",
    "4. 단순 연결 리스트와 이중 연결 리스트의 차이점을 설명할 수 있다.\n",
    "5. 삽입 정렬을 이해하고 활용할 수 있다.\n",
    "6. 병합 정렬을 이해하고 활용할 수 있다.\n",
    "7. 연결 리스트를 이용한 스택과 우선순위 큐의 기본구조와 연산을 설명할 수 있다."
   ]
  },
  {
   "cell_type": "markdown",
   "id": "9caf7bd2",
   "metadata": {},
   "source": [
    "---"
   ]
  },
  {
   "cell_type": "markdown",
   "id": "cfb804b2",
   "metadata": {},
   "source": [
    "## Linked List"
   ]
  },
  {
   "cell_type": "markdown",
   "id": "b0069c3a",
   "metadata": {},
   "source": [
    "---"
   ]
  },
  {
   "cell_type": "markdown",
   "id": "079d4db5",
   "metadata": {},
   "source": [
    "## 삽입 정렬"
   ]
  },
  {
   "cell_type": "markdown",
   "id": "497c80ae",
   "metadata": {},
   "source": [
    "---"
   ]
  },
  {
   "cell_type": "markdown",
   "id": "3d10fc26",
   "metadata": {},
   "source": [
    "## 병합 정렬"
   ]
  },
  {
   "cell_type": "markdown",
   "id": "3fa6bca3",
   "metadata": {},
   "source": [
    "---"
   ]
  },
  {
   "cell_type": "markdown",
   "id": "e270f237",
   "metadata": {},
   "source": [
    "## Linked List 활용"
   ]
  },
  {
   "cell_type": "markdown",
   "id": "5db9efe1",
   "metadata": {},
   "source": [
    "---"
   ]
  }
 ],
 "metadata": {
  "kernelspec": {
   "display_name": "Python 3 (ipykernel)",
   "language": "python",
   "name": "python3"
  },
  "language_info": {
   "codemirror_mode": {
    "name": "ipython",
    "version": 3
   },
   "file_extension": ".py",
   "mimetype": "text/x-python",
   "name": "python",
   "nbconvert_exporter": "python",
   "pygments_lexer": "ipython3",
   "version": "3.8.16"
  },
  "toc": {
   "base_numbering": 1,
   "nav_menu": {},
   "number_sections": true,
   "sideBar": true,
   "skip_h1_title": false,
   "title_cell": "Table of Contents",
   "title_sidebar": "Contents",
   "toc_cell": false,
   "toc_position": {},
   "toc_section_display": true,
   "toc_window_display": false
  },
  "varInspector": {
   "cols": {
    "lenName": 16,
    "lenType": 16,
    "lenVar": 40
   },
   "kernels_config": {
    "python": {
     "delete_cmd_postfix": "",
     "delete_cmd_prefix": "del ",
     "library": "var_list.py",
     "varRefreshCmd": "print(var_dic_list())"
    },
    "r": {
     "delete_cmd_postfix": ") ",
     "delete_cmd_prefix": "rm(",
     "library": "var_list.r",
     "varRefreshCmd": "cat(var_dic_list()) "
    }
   },
   "types_to_exclude": [
    "module",
    "function",
    "builtin_function_or_method",
    "instance",
    "_Feature"
   ],
   "window_display": false
  }
 },
 "nbformat": 4,
 "nbformat_minor": 5
}
