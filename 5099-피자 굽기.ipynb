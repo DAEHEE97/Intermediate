{
 "cells": [
  {
   "cell_type": "markdown",
   "id": "2c0b7940",
   "metadata": {},
   "source": [
    "#  5099. [파이썬 S/W 문제해결 기본] 6일차 - 피자 굽기"
   ]
  },
  {
   "cell_type": "markdown",
   "id": "35c36d47",
   "metadata": {},
   "source": [
    "---"
   ]
  },
  {
   "cell_type": "markdown",
   "id": "b3ccde4b",
   "metadata": {},
   "source": [
    "## sol 1\n",
    "\n",
    "- 'tuple' object does not support item assignment, > lst[0] lst[1]"
   ]
  },
  {
   "cell_type": "code",
   "execution_count": 1,
   "id": "044e45e1",
   "metadata": {},
   "outputs": [
    {
     "name": "stdout",
     "output_type": "stream",
     "text": [
      "3\n",
      "3 5\n",
      "7 2 6 5 3\n",
      "1 4\n",
      "5 10\n",
      "5 9 3 9 9 2 5 8 7 1\n",
      "2 8\n",
      "5 10\n",
      "20 4 5 7 3 15 2 1 2 2\t\n",
      "3 6\n"
     ]
    }
   ],
   "source": [
    "T = int(input())\n",
    "\n",
    "for t in range(1, T+1):\n",
    "    \n",
    "    # 화덕의 크기 N\n",
    "    # M개의 피자\n",
    "    N, M = map(int, input().split())\n",
    "    \n",
    "    # 피자 치즈 lst\n",
    "    lst = list(map(int, input().split())) \n",
    "    \n",
    "    # 피자번호, 치즈 v\n",
    "    lst = [ [i+1, v] for i,v in enumerate(lst) ]\n",
    "    \n",
    "    # 피자를 화덕에 넣어야함 처음에 는 N개의 크기 만큼 화덕에 들어가 겠지\n",
    "    fire = lst[:N]\n",
    "    \n",
    "    remain = lst[N:]\n",
    "    \n",
    "    # 화덕 안에 하나가 남을 때 까지 \n",
    "    \n",
    "    while len(fire) != 1:\n",
    "        \n",
    "        c = fire.pop(0)\n",
    "        \n",
    "        if c[1] // 2 != 0:\n",
    "            \n",
    "            c[1] = c[1] // 2\n",
    "            \n",
    "            fire.append(c)\n",
    "        # pop 수행시, // 2 수행시 0이 되었으면 화덕에서 제거 후, remain에서 삽입\n",
    "        else:\n",
    "            # 남은 피자가 있어야 하며, fire 오븐 최대 용량에도 맞아야함\n",
    "            if len(remain) > 0 and len(fire) < N:\n",
    "                fire.append(remain.pop(0))\n",
    "    \n",
    "    # 마지막 피자의 idx\n",
    "    ans = fire[0][0]\n",
    "    \n",
    "    print(f'#{t} {ans}')"
   ]
  },
  {
   "cell_type": "markdown",
   "id": "eb00eae0",
   "metadata": {},
   "source": [
    "---"
   ]
  },
  {
   "cell_type": "markdown",
   "id": "aa245fb8",
   "metadata": {},
   "source": [
    "- error"
   ]
  },
  {
   "cell_type": "code",
   "execution_count": 2,
   "id": "4c09aead",
   "metadata": {},
   "outputs": [
    {
     "ename": "TypeError",
     "evalue": "'tuple' object does not support item assignment",
     "output_type": "error",
     "traceback": [
      "\u001b[0;31m---------------------------------------------------------------------------\u001b[0m",
      "\u001b[0;31mTypeError\u001b[0m                                 Traceback (most recent call last)",
      "Cell \u001b[0;32mIn[2], line 2\u001b[0m\n\u001b[1;32m      1\u001b[0m tup \u001b[38;5;241m=\u001b[39m (\u001b[38;5;241m1\u001b[39m,\u001b[38;5;241m2\u001b[39m)\n\u001b[0;32m----> 2\u001b[0m \u001b[43mtup\u001b[49m\u001b[43m[\u001b[49m\u001b[38;5;241;43m1\u001b[39;49m\u001b[43m]\u001b[49m \u001b[38;5;241m=\u001b[39m \u001b[38;5;241m3\u001b[39m\n",
      "\u001b[0;31mTypeError\u001b[0m: 'tuple' object does not support item assignment"
     ]
    }
   ],
   "source": [
    "tup = (1,2)\n",
    "tup[1] = 3"
   ]
  },
  {
   "cell_type": "markdown",
   "id": "0d29c016",
   "metadata": {},
   "source": [
    "---"
   ]
  },
  {
   "cell_type": "markdown",
   "id": "f707a72b",
   "metadata": {},
   "source": [
    "## sol 2 deque"
   ]
  },
  {
   "cell_type": "code",
   "execution_count": null,
   "id": "a13f2da1",
   "metadata": {},
   "outputs": [],
   "source": [
    "from collections import deque\n",
    "\n",
    "\n",
    "T = int(input())\n",
    "\n",
    "for t in range(1, T+1):\n",
    "    \n",
    "    # 1-1) 화덕의 크기, 피자 개수\n",
    "    N, M = map(int, input().split())\n",
    "    \n",
    "    # 1-2) tuple (indexing, value), idx 1 부터 시작\n",
    "    pizza_deque = deque(enumerate(list(map(int, input().split())), 1))\n",
    "    \n",
    "    fire = deque()\n",
    "    \n",
    "    # 1-3) 초기 상태 처리, start 오븐크기만큼 피자 넣기, \n",
    "    for _ in range(N):\n",
    "        fire.append(pizza_deque.popleft())\n",
    "        \n",
    "    \n",
    "    while len(fire) != 1:\n",
    "        \n",
    "        pizza_num, cheese = fire.popleft()\n",
    "        \n",
    "        # 치즈양이 0이 되면, 남은 걸 검사하면됨 \n",
    "        if cheese // 2 == 0 :\n",
    "            pass\n",
    "        \n",
    "        # 치즈양이 0이 아니면, 다시 fire에 삽입\n",
    "        else:\n",
    "            fire.append( (pizza_num, cheese // 2) )\n",
    "            \n",
    "            \n",
    "        if len(fire) < N and len(pizza_deque) >= 1:\n",
    "            fire.append(pizza_deque.popleft())\n",
    "        \n",
    "    \n",
    "    # idx\n",
    "    ans = fire.popleft()[0]\n",
    "    \n",
    "    print('#{0} {1}'.format(t, ans))"
   ]
  },
  {
   "cell_type": "markdown",
   "id": "4a18b47a",
   "metadata": {},
   "source": [
    "---"
   ]
  },
  {
   "cell_type": "markdown",
   "id": "9f7766ef",
   "metadata": {},
   "source": [
    "## sol 3 deque"
   ]
  },
  {
   "cell_type": "code",
   "execution_count": null,
   "id": "2d0da883",
   "metadata": {},
   "outputs": [],
   "source": [
    "from collections import deque\n",
    "\n",
    "T = int(input())\n",
    "\n",
    "for t in range(1, T+1):\n",
    "    \n",
    "    N, M = map(int, input().split())\n",
    "    \n",
    "    pizza_deque = deque(enumerate(list(map(int, input().split())), 1))\n",
    "    \n",
    "    \n",
    "    fire = deque()\n",
    "    \n",
    "    for _ in range(N):\n",
    "        fire.append(pizza_deque.popleft())\n",
    "        \n",
    "    \n",
    "    while len(fire) != 1:\n",
    "        \n",
    "        pizza_num, cheese = fire.popleft()\n",
    "        \n",
    "        # 치즈양이 0이 되면, pop 했으므로, pass 후, pop 이후, 남은 피자 1개 화덕에 삽입  \n",
    "        if cheese // 2 == 0 :\n",
    "            \n",
    "            pass \n",
    "            \n",
    "            if len(fire) < N and len(pizza_deque) >= 1:\n",
    "                fire.append(pizza_deque.popleft())\n",
    "        \n",
    "        # 치즈양이 0이 아니므로, 다시 fire에 삽입\n",
    "        else:\n",
    "            fire.append( (pizza_num, cheese // 2) )\n",
    "            \n",
    "\n",
    "    ans = fire.popleft()[0]\n",
    "    \n",
    "    print('#{0} {1}'.format(t, ans))"
   ]
  }
 ],
 "metadata": {
  "kernelspec": {
   "display_name": "Python 3 (ipykernel)",
   "language": "python",
   "name": "python3"
  },
  "language_info": {
   "codemirror_mode": {
    "name": "ipython",
    "version": 3
   },
   "file_extension": ".py",
   "mimetype": "text/x-python",
   "name": "python",
   "nbconvert_exporter": "python",
   "pygments_lexer": "ipython3",
   "version": "3.8.16"
  },
  "toc": {
   "base_numbering": 1,
   "nav_menu": {},
   "number_sections": true,
   "sideBar": true,
   "skip_h1_title": false,
   "title_cell": "Table of Contents",
   "title_sidebar": "Contents",
   "toc_cell": false,
   "toc_position": {},
   "toc_section_display": true,
   "toc_window_display": false
  },
  "varInspector": {
   "cols": {
    "lenName": 16,
    "lenType": 16,
    "lenVar": 40
   },
   "kernels_config": {
    "python": {
     "delete_cmd_postfix": "",
     "delete_cmd_prefix": "del ",
     "library": "var_list.py",
     "varRefreshCmd": "print(var_dic_list())"
    },
    "r": {
     "delete_cmd_postfix": ") ",
     "delete_cmd_prefix": "rm(",
     "library": "var_list.r",
     "varRefreshCmd": "cat(var_dic_list()) "
    }
   },
   "types_to_exclude": [
    "module",
    "function",
    "builtin_function_or_method",
    "instance",
    "_Feature"
   ],
   "window_display": false
  }
 },
 "nbformat": 4,
 "nbformat_minor": 5
}
