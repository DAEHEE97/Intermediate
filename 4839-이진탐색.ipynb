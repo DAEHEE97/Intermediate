{
 "cells": [
  {
   "cell_type": "markdown",
   "id": "31464de1",
   "metadata": {},
   "source": [
    "#  4839. [파이썬 S/W 문제해결 기본] 2일차 - 이진탐색"
   ]
  },
  {
   "cell_type": "markdown",
   "id": "cede4de9",
   "metadata": {},
   "source": [
    "---"
   ]
  },
  {
   "cell_type": "code",
   "execution_count": 1,
   "id": "09cf76a4",
   "metadata": {},
   "outputs": [],
   "source": [
    "def search_cnt(end, page):  # 이진 탐색하는 횟수를 출력\n",
    "    \n",
    "    s = 1\n",
    "    e = end\n",
    "    \n",
    "    cnt = 1\n",
    "    \n",
    "    while True:\n",
    "        \n",
    "        if (s + e) // 2 == page:\n",
    "            break\n",
    "            \n",
    "            \n",
    "        cnt += 1\n",
    "        \n",
    "        if page > (s + e) // 2:\n",
    "            s = (s + e) // 2\n",
    "        \n",
    "        else:\n",
    "            e = (s+ e) // 2\n",
    "            \n",
    "            \n",
    "    return cnt"
   ]
  },
  {
   "cell_type": "code",
   "execution_count": 2,
   "id": "43203012",
   "metadata": {},
   "outputs": [
    {
     "name": "stdout",
     "output_type": "stream",
     "text": [
      "3\n",
      "400 300 350\n",
      "#1 A\n",
      "1000 299 578\n",
      "#2 0\n",
      "1000 222 888\n",
      "#3 A\n"
     ]
    }
   ],
   "source": [
    "T = int(input())\n",
    "\n",
    "for t in range(1, T + 1):\n",
    "    # P: 전체 쪽수\n",
    "    # A, B: A, B가 찾을 쪽 번호\n",
    "    P, A, B = map(int, input().split())  \n",
    "    \n",
    "    cnt_A = search_cnt(P, A)  \n",
    "    \n",
    "    cnt_B = search_cnt(P, B)  \n",
    "    \n",
    "\n",
    "    if cnt_A == cnt_B:  # 비기면 0\n",
    "        ans = 0\n",
    "    \n",
    "    elif cnt_A > cnt_B:  # 횟수가 더 적은 쪽이 이긴다.\n",
    "        ans = 'B'\n",
    "    \n",
    "    else:\n",
    "        ans = 'A'\n",
    "    \n",
    "    print(f'#{t} {ans}')"
   ]
  }
 ],
 "metadata": {
  "kernelspec": {
   "display_name": "Python 3 (ipykernel)",
   "language": "python",
   "name": "python3"
  },
  "language_info": {
   "codemirror_mode": {
    "name": "ipython",
    "version": 3
   },
   "file_extension": ".py",
   "mimetype": "text/x-python",
   "name": "python",
   "nbconvert_exporter": "python",
   "pygments_lexer": "ipython3",
   "version": "3.8.16"
  },
  "toc": {
   "base_numbering": 1,
   "nav_menu": {},
   "number_sections": true,
   "sideBar": true,
   "skip_h1_title": false,
   "title_cell": "Table of Contents",
   "title_sidebar": "Contents",
   "toc_cell": false,
   "toc_position": {},
   "toc_section_display": true,
   "toc_window_display": false
  },
  "varInspector": {
   "cols": {
    "lenName": 16,
    "lenType": 16,
    "lenVar": 40
   },
   "kernels_config": {
    "python": {
     "delete_cmd_postfix": "",
     "delete_cmd_prefix": "del ",
     "library": "var_list.py",
     "varRefreshCmd": "print(var_dic_list())"
    },
    "r": {
     "delete_cmd_postfix": ") ",
     "delete_cmd_prefix": "rm(",
     "library": "var_list.r",
     "varRefreshCmd": "cat(var_dic_list()) "
    }
   },
   "types_to_exclude": [
    "module",
    "function",
    "builtin_function_or_method",
    "instance",
    "_Feature"
   ],
   "window_display": false
  }
 },
 "nbformat": 4,
 "nbformat_minor": 5
}
