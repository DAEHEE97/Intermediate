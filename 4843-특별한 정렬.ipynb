{
 "cells": [
  {
   "cell_type": "markdown",
   "id": "1e6757d2",
   "metadata": {},
   "source": [
    "# 4843. [파이썬 S/W 문제해결 기본] 2일차 - 특별한 정렬"
   ]
  },
  {
   "cell_type": "markdown",
   "id": "2b4cb27d",
   "metadata": {},
   "source": [
    "---"
   ]
  },
  {
   "cell_type": "markdown",
   "id": "82c9a84d",
   "metadata": {},
   "source": [
    "보통의 정렬은 오름차순이나 내림차순으로 이루어지지만, 이번에는 특별한 정렬을 하려고 한다.\n",
    "\n",
    "N개의 정수가 주어지면 가장 큰 수, 가장 작은 수, 2번째 큰 수, 2번째 작은 수 식으로 큰 수와 작은 수를 번갈아 정렬하는 방법이다.\n",
    "\n",
    "예를 들어 1부터 10까지 10개의 숫자가 주어지면 다음과 같이 정렬한다.\n",
    " \n",
    "\n",
    "10 1 9 2 8 3 7 4 6 5\n",
    " \n",
    "\n",
    "주어진 숫자에 대해 특별한 정렬을 한 결과를 10개까지 출력하시오\n",
    "\n",
    " \n",
    " \n",
    "\n",
    "## [입력]\n",
    " \n",
    "\n",
    "첫 줄에 테스트 케이스 개수 T가 주어진다.  1<=T<=50\n",
    "\n",
    "다음 줄에 정수의 개수 N이 주어지고 다음 줄에 N개의 정수 ai가 주어진다. 10<=N<=100, 1<=ai<=100\n",
    "\n",
    " \n",
    "\n",
    "## [출력]\n",
    " \n",
    "\n",
    "각 줄마다 \"#T\" (T는 테스트 케이스 번호)를 출력한 뒤, 특별히 정렬된 숫자를 10개까지 출력한다."
   ]
  },
  {
   "cell_type": "markdown",
   "id": "fd466ce1",
   "metadata": {},
   "source": [
    "---"
   ]
  },
  {
   "cell_type": "code",
   "execution_count": 4,
   "id": "453563f9",
   "metadata": {},
   "outputs": [
    {
     "name": "stdout",
     "output_type": "stream",
     "text": [
      "3\n",
      "10\n",
      "1 2 3 4 5 6 7 8 9 10\n",
      "10 1 9 2 8 3 7 4 6 5 \n",
      "10\n",
      "67 39 16 49 60 28 8 85 89 11\n",
      "89 8 85 11 67 16 60 28 49 39 \n",
      "20\n",
      "3 69 21 46 43 60 62 97 64 30 17 88 18 98 71 75 59 36 9 26\t\n",
      "98 3 97 9 88 17 75 18 71 21 \n"
     ]
    }
   ],
   "source": [
    "T = int(input())\n",
    "\n",
    "for t in range(1, T+1):\n",
    "    \n",
    "    N = int(input())\n",
    "    \n",
    "    lst = list(map(int, input().split()))\n",
    "    \n",
    "    print(f'#{t}', end = ' ')\n",
    "    for _ in range(5):\n",
    "        \n",
    "        print(lst.pop(lst.index(max(lst))), end = ' ')\n",
    "        \n",
    "        print(lst.pop(lst.index(min(lst))), end = ' ')\n",
    "    \n",
    "    print()\n",
    "            \n",
    "            "
   ]
  }
 ],
 "metadata": {
  "kernelspec": {
   "display_name": "Python 3 (ipykernel)",
   "language": "python",
   "name": "python3"
  },
  "language_info": {
   "codemirror_mode": {
    "name": "ipython",
    "version": 3
   },
   "file_extension": ".py",
   "mimetype": "text/x-python",
   "name": "python",
   "nbconvert_exporter": "python",
   "pygments_lexer": "ipython3",
   "version": "3.8.16"
  },
  "toc": {
   "base_numbering": 1,
   "nav_menu": {},
   "number_sections": true,
   "sideBar": true,
   "skip_h1_title": false,
   "title_cell": "Table of Contents",
   "title_sidebar": "Contents",
   "toc_cell": false,
   "toc_position": {},
   "toc_section_display": true,
   "toc_window_display": false
  },
  "varInspector": {
   "cols": {
    "lenName": 16,
    "lenType": 16,
    "lenVar": 40
   },
   "kernels_config": {
    "python": {
     "delete_cmd_postfix": "",
     "delete_cmd_prefix": "del ",
     "library": "var_list.py",
     "varRefreshCmd": "print(var_dic_list())"
    },
    "r": {
     "delete_cmd_postfix": ") ",
     "delete_cmd_prefix": "rm(",
     "library": "var_list.r",
     "varRefreshCmd": "cat(var_dic_list()) "
    }
   },
   "types_to_exclude": [
    "module",
    "function",
    "builtin_function_or_method",
    "instance",
    "_Feature"
   ],
   "window_display": false
  }
 },
 "nbformat": 4,
 "nbformat_minor": 5
}
