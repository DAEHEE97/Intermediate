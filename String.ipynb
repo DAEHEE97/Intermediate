{
 "cells": [
  {
   "cell_type": "markdown",
   "id": "3274a2b5",
   "metadata": {},
   "source": [
    "# String"
   ]
  },
  {
   "cell_type": "markdown",
   "id": "1a4ac74d",
   "metadata": {},
   "source": [
    "학습 목표\n",
    "\n",
    "1. 컴퓨터에서 문자를 표현하는 방법에 대해 이해한다.\n",
    "2. 컴퓨터에서 문자열을 저장하는 방식을 이해하고, 이를 활용할 수 있다.\n",
    "3. 문자열을 조작하는 방법을 이해하고 이를 활용할 수 있다.\n",
    "4. 문자열을 정수로, 정수를 문자열로 변환하는 프로그램을 작성할 수 있다.\n",
    "5. 패턴 매칭에 대해 이해하고, 설명할 수 있다.\n",
    "6. 고지식한 패턴 매칭 알고리즘을 이해하고 활용할 수 있다.\n",
    "7. KMP알고리즘의 동작 방식을 이해하고 설명할 수 있다.\n",
    "8. 보이어-무어 알고리즘의 동작 방식을 이해하고 설명할 수 있다."
   ]
  },
  {
   "cell_type": "markdown",
   "id": "bf54f48e",
   "metadata": {},
   "source": [
    "---"
   ]
  },
  {
   "cell_type": "markdown",
   "id": "2659b4e2",
   "metadata": {},
   "source": [
    "## String\n"
   ]
  },
  {
   "cell_type": "markdown",
   "id": "18bec47d",
   "metadata": {},
   "source": [
    "---"
   ]
  },
  {
   "cell_type": "markdown",
   "id": "d2cd5091",
   "metadata": {},
   "source": [
    "## 패턴 매칭"
   ]
  },
  {
   "cell_type": "markdown",
   "id": "babeacdd",
   "metadata": {},
   "source": [
    "---"
   ]
  }
 ],
 "metadata": {
  "kernelspec": {
   "display_name": "Python 3 (ipykernel)",
   "language": "python",
   "name": "python3"
  },
  "language_info": {
   "codemirror_mode": {
    "name": "ipython",
    "version": 3
   },
   "file_extension": ".py",
   "mimetype": "text/x-python",
   "name": "python",
   "nbconvert_exporter": "python",
   "pygments_lexer": "ipython3",
   "version": "3.8.16"
  },
  "toc": {
   "base_numbering": 1,
   "nav_menu": {},
   "number_sections": true,
   "sideBar": true,
   "skip_h1_title": false,
   "title_cell": "Table of Contents",
   "title_sidebar": "Contents",
   "toc_cell": false,
   "toc_position": {},
   "toc_section_display": true,
   "toc_window_display": false
  },
  "varInspector": {
   "cols": {
    "lenName": 16,
    "lenType": 16,
    "lenVar": 40
   },
   "kernels_config": {
    "python": {
     "delete_cmd_postfix": "",
     "delete_cmd_prefix": "del ",
     "library": "var_list.py",
     "varRefreshCmd": "print(var_dic_list())"
    },
    "r": {
     "delete_cmd_postfix": ") ",
     "delete_cmd_prefix": "rm(",
     "library": "var_list.r",
     "varRefreshCmd": "cat(var_dic_list()) "
    }
   },
   "types_to_exclude": [
    "module",
    "function",
    "builtin_function_or_method",
    "instance",
    "_Feature"
   ],
   "window_display": false
  }
 },
 "nbformat": 4,
 "nbformat_minor": 5
}
