{
 "cells": [
  {
   "cell_type": "markdown",
   "id": "33ca7012",
   "metadata": {},
   "source": [
    "# Queue"
   ]
  },
  {
   "cell_type": "markdown",
   "id": "3708d343",
   "metadata": {},
   "source": [
    "---"
   ]
  },
  {
   "cell_type": "markdown",
   "id": "343e7cf2",
   "metadata": {},
   "source": [
    "- 학습 목표\n",
    "\n",
    "1. 큐 자료구조의 개념과 기본 연산을 설명할 수 있다.\n",
    "2. 선형 큐에 대해 설명하고 이를 구현할 수 있다.\n",
    "3. 원형 큐에 대해 설명하고 이를 구현할 수 있다.\n",
    "4. 리스트의 특성을 사용한 큐에 대해 설명하고 이를 구현할 수 있다.\n",
    "5. 연결 큐에 대해 설명하고 이를 구현할 수 있다.\n",
    "6. 큐 라이브러리를 활용하여 구현할 수 있다.\n",
    "7. 큐를 활용한 자료구조인 우선순위 큐의 개념과 알고리즘을 설명할 수 있다.\n",
    "8. 큐의 활용인 버퍼에 대해 이해한다.\n",
    "9. 큐를 활용한 그래프 탐색 방법인 너비 우선 탐색 알고리즘에 대하여 설명할 수 있다."
   ]
  },
  {
   "cell_type": "markdown",
   "id": "dc4fd733",
   "metadata": {},
   "source": [
    "## Queue DS"
   ]
  },
  {
   "cell_type": "markdown",
   "id": "b2452506",
   "metadata": {},
   "source": [
    "---"
   ]
  },
  {
   "cell_type": "markdown",
   "id": "936badf3",
   "metadata": {},
   "source": [
    "## Queue 종류"
   ]
  },
  {
   "cell_type": "markdown",
   "id": "6833ed18",
   "metadata": {},
   "source": [
    "---"
   ]
  },
  {
   "cell_type": "markdown",
   "id": "6d49af1d",
   "metadata": {},
   "source": [
    "## Queue 활용"
   ]
  },
  {
   "cell_type": "markdown",
   "id": "9ffea5e6",
   "metadata": {},
   "source": [
    "---"
   ]
  },
  {
   "cell_type": "markdown",
   "id": "d236479d",
   "metadata": {},
   "source": [
    "## BFS(너비 우선 탐색)"
   ]
  },
  {
   "cell_type": "markdown",
   "id": "38d5701d",
   "metadata": {},
   "source": [
    "---"
   ]
  }
 ],
 "metadata": {
  "kernelspec": {
   "display_name": "Python 3 (ipykernel)",
   "language": "python",
   "name": "python3"
  },
  "language_info": {
   "codemirror_mode": {
    "name": "ipython",
    "version": 3
   },
   "file_extension": ".py",
   "mimetype": "text/x-python",
   "name": "python",
   "nbconvert_exporter": "python",
   "pygments_lexer": "ipython3",
   "version": "3.8.16"
  },
  "toc": {
   "base_numbering": 1,
   "nav_menu": {},
   "number_sections": true,
   "sideBar": true,
   "skip_h1_title": false,
   "title_cell": "Table of Contents",
   "title_sidebar": "Contents",
   "toc_cell": false,
   "toc_position": {},
   "toc_section_display": true,
   "toc_window_display": false
  },
  "varInspector": {
   "cols": {
    "lenName": 16,
    "lenType": 16,
    "lenVar": 40
   },
   "kernels_config": {
    "python": {
     "delete_cmd_postfix": "",
     "delete_cmd_prefix": "del ",
     "library": "var_list.py",
     "varRefreshCmd": "print(var_dic_list())"
    },
    "r": {
     "delete_cmd_postfix": ") ",
     "delete_cmd_prefix": "rm(",
     "library": "var_list.r",
     "varRefreshCmd": "cat(var_dic_list()) "
    }
   },
   "types_to_exclude": [
    "module",
    "function",
    "builtin_function_or_method",
    "instance",
    "_Feature"
   ],
   "window_display": false
  }
 },
 "nbformat": 4,
 "nbformat_minor": 5
}
